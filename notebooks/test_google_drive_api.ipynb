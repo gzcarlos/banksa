{
 "cells": [
  {
   "cell_type": "code",
   "execution_count": 1,
   "metadata": {
    "id": "La4RU4mJl1X8"
   },
   "outputs": [],
   "source": [
    "%%capture\n",
    "!pip install --upgrade google-api-python-client google-auth-httplib2 google-auth-oauthlib"
   ]
  },
  {
   "cell_type": "code",
   "execution_count": 12,
   "metadata": {
    "id": "tfBGOu30l8ns"
   },
   "outputs": [],
   "source": [
    "import os.path\n",
    "from google.oauth2.credentials import Credentials\n",
    "from google_auth_oauthlib.flow import InstalledAppFlow\n",
    "from googleapiclient.discovery import build\n",
    "\n",
    "# If modifying these SCOPES, delete the file token.json.\n",
    "SCOPES = ['https://www.googleapis.com/auth/drive.metadata.readonly']\n",
    "\n",
    "def get_credentials():\n",
    "    creds = None\n",
    "    if os.path.exists('token.json'):\n",
    "        creds = Credentials.from_authorized_user_file('token.json', SCOPES)\n",
    "    if not creds or not creds.valid:\n",
    "        if creds and creds.expired and creds.refresh_token:\n",
    "            creds.refresh(Request())\n",
    "        else:\n",
    "            print('loading credentials.json')\n",
    "            flow = InstalledAppFlow.from_client_secrets_file('../credentials.json', SCOPES)\n",
    "            creds = flow.run_local_server(port=0)\n",
    "        with open('token.json', 'w') as token:\n",
    "            token.write(creds.to_json())\n",
    "    return creds\n",
    "\n",
    "def list_files_in_folder(folder_id):\n",
    "    service = build('drive', 'v3', credentials=get_credentials())\n",
    "\n",
    "    query = f\"'{folder_id}' in parents\"\n",
    "    results = service.files().list(q=query, fields=\"files(id, name)\").execute()\n",
    "    items = results.get('files', [])\n",
    "\n",
    "    if not items:\n",
    "        print('No files found.')\n",
    "    else:\n",
    "        print('Files:')\n",
    "        for item in items:\n",
    "            file_size_kb = item.get('size')  # Convert bytes to KB\n",
    "            print(f\"{item['name']} ({item['id']}): {file_size_kb} KB\")\n"
   ]
  },
  {
   "cell_type": "markdown",
   "metadata": {},
   "source": [
    "## How to Find the Folder ID\n",
    "1. To find the folder ID:\n",
    "2. Open Google Drive in your web browser.\n",
    "3. Navigate to the folder you want to list files from.\n",
    "4. The `folder ID` is the string in the URL after `/folders/`. For example, in the URL `https://drive.google.com/drive/folders/1A2B3C4D5E`, the folder ID is `1A2B3C4D5E`."
   ]
  },
  {
   "cell_type": "code",
   "execution_count": 13,
   "metadata": {
    "colab": {
     "base_uri": "https://localhost:8080/",
     "height": 321
    },
    "id": "qnRYrCsnn2Gi",
    "outputId": "9073b882-a795-4338-992a-d703ddc1c434"
   },
   "outputs": [
    {
     "name": "stdout",
     "output_type": "stream",
     "text": [
      "Files:\n",
      "TCR_000000145662_7892_202408.pdf (1D2eUdL8iWx5OmPcjPAuJ-2tBPkklBQqI): None KB\n"
     ]
    }
   ],
   "source": [
    "# Replace 'your-folder-id' with the actual folder ID you want to list files from\n",
    "list_files_in_folder('16yYf4eKlJ5AnhMhoCJxAsnDnJ1Bk1NNR')"
   ]
  }
 ],
 "metadata": {
  "colab": {
   "provenance": []
  },
  "kernelspec": {
   "display_name": "Python 3 (ipykernel)",
   "language": "python",
   "name": "python3"
  },
  "language_info": {
   "codemirror_mode": {
    "name": "ipython",
    "version": 3
   },
   "file_extension": ".py",
   "mimetype": "text/x-python",
   "name": "python",
   "nbconvert_exporter": "python",
   "pygments_lexer": "ipython3",
   "version": "3.12.1"
  }
 },
 "nbformat": 4,
 "nbformat_minor": 4
}
