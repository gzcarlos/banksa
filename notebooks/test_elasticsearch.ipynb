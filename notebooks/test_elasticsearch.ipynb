{
 "cells": [
  {
   "cell_type": "code",
   "execution_count": 1,
   "id": "64753e2b-bb32-4db0-ab93-760a5c9da749",
   "metadata": {},
   "outputs": [
    {
     "name": "stderr",
     "output_type": "stream",
     "text": [
      "/usr/local/python/3.12.1/lib/python3.12/site-packages/sentence_transformers/cross_encoder/CrossEncoder.py:11: TqdmExperimentalWarning: Using `tqdm.autonotebook.tqdm` in notebook mode. Use `tqdm.tqdm` instead to force console mode (e.g. in jupyter console)\n",
      "  from tqdm.autonotebook import tqdm, trange\n"
     ]
    }
   ],
   "source": [
    "from sentence_transformers import SentenceTransformer\n",
    "from tqdm.auto import tqdm\n",
    "\n",
    "import psycopg2\n",
    "from psycopg2 import sql\n",
    "import pandas as pd\n",
    "\n"
   ]
  },
  {
   "cell_type": "code",
   "execution_count": 2,
   "id": "97e373f1-fbb6-4045-ad25-19cb74c922a7",
   "metadata": {},
   "outputs": [],
   "source": [
    "def get_db_connection():\n",
    "    return psycopg2.connect(\n",
    "        dbname=\"banksa\",\n",
    "        user=\"root\",\n",
    "        password=\"root\",\n",
    "        host=\"localhost\",\n",
    "        port=\"5432\"\n",
    "    )"
   ]
  },
  {
   "cell_type": "code",
   "execution_count": 3,
   "id": "c0d1a898-68d1-4e86-9d15-8339b0f95fd8",
   "metadata": {},
   "outputs": [],
   "source": [
    "def get_knowledge_base_not_indexed():\n",
    "    cur = None\n",
    "    conn = None\n",
    "    try:\n",
    "        conn = get_db_connection()\n",
    "        cur = conn.cursor()\n",
    "\n",
    "        query = sql.SQL(\"select * from v_knowledge_base where indexed = false\")\n",
    "        \n",
    "        cur.execute(query)\n",
    "\n",
    "        column_names = [desc[0] for desc in cur.description]\n",
    "        results = cur.fetchall()\n",
    "\n",
    "        df = pd.DataFrame(results, columns=column_names)\n",
    "\n",
    "        return df\n",
    "    except Exception as e:\n",
    "        print(f\"An error ocurred: {str(e)}\")\n",
    "        return pd.DataFrame()\n",
    "    finally:\n",
    "        if cur:\n",
    "            cur.close()\n",
    "        if conn:\n",
    "            conn.close()"
   ]
  },
  {
   "cell_type": "code",
   "execution_count": 5,
   "id": "adbcd15d-6c6d-4be6-be04-c91ec3de53b9",
   "metadata": {},
   "outputs": [],
   "source": [
    "df_knowledge_base = get_knowledge_base_not_indexed()"
   ]
  },
  {
   "cell_type": "code",
   "execution_count": 6,
   "id": "40cc1912-322f-4611-9070-372712bbaa8c",
   "metadata": {},
   "outputs": [
    {
     "data": {
      "text/html": [
       "<div>\n",
       "<style scoped>\n",
       "    .dataframe tbody tr th:only-of-type {\n",
       "        vertical-align: middle;\n",
       "    }\n",
       "\n",
       "    .dataframe tbody tr th {\n",
       "        vertical-align: top;\n",
       "    }\n",
       "\n",
       "    .dataframe thead th {\n",
       "        text-align: right;\n",
       "    }\n",
       "</style>\n",
       "<table border=\"1\" class=\"dataframe\">\n",
       "  <thead>\n",
       "    <tr style=\"text-align: right;\">\n",
       "      <th></th>\n",
       "      <th>id</th>\n",
       "      <th>description</th>\n",
       "      <th>category</th>\n",
       "    </tr>\n",
       "  </thead>\n",
       "  <tbody>\n",
       "    <tr>\n",
       "      <th>0</th>\n",
       "      <td>54</td>\n",
       "      <td>SMASH BURGUER</td>\n",
       "      <td>RESTAURANT</td>\n",
       "    </tr>\n",
       "    <tr>\n",
       "      <th>1</th>\n",
       "      <td>57</td>\n",
       "      <td>AMAZON</td>\n",
       "      <td>ONLINE SHOPPING</td>\n",
       "    </tr>\n",
       "    <tr>\n",
       "      <th>2</th>\n",
       "      <td>60</td>\n",
       "      <td>LA SIRENA VENEZUELA MC</td>\n",
       "      <td>SUPERMARKET</td>\n",
       "    </tr>\n",
       "    <tr>\n",
       "      <th>3</th>\n",
       "      <td>62</td>\n",
       "      <td>COFFEE SHOP ONE PLACE</td>\n",
       "      <td>COFFEE SHOP</td>\n",
       "    </tr>\n",
       "    <tr>\n",
       "      <th>4</th>\n",
       "      <td>66</td>\n",
       "      <td>Amazon.com*RV0SD8QA2</td>\n",
       "      <td>ONLINE SHOPPING</td>\n",
       "    </tr>\n",
       "    <tr>\n",
       "      <th>5</th>\n",
       "      <td>59</td>\n",
       "      <td>ALTICE DEBITO DIRECTO</td>\n",
       "      <td>SERVICE PAYMENT</td>\n",
       "    </tr>\n",
       "    <tr>\n",
       "      <th>6</th>\n",
       "      <td>47</td>\n",
       "      <td>PLAZA CENTRAL CIN  MEG</td>\n",
       "      <td>CINEMA</td>\n",
       "    </tr>\n",
       "    <tr>\n",
       "      <th>7</th>\n",
       "      <td>65</td>\n",
       "      <td>JAGI CAPS MEGACENTRO</td>\n",
       "      <td>SUPERMARKET</td>\n",
       "    </tr>\n",
       "    <tr>\n",
       "      <th>8</th>\n",
       "      <td>80</td>\n",
       "      <td>TACOS DEL SOL PIANTINI</td>\n",
       "      <td>RESTAURANT</td>\n",
       "    </tr>\n",
       "    <tr>\n",
       "      <th>9</th>\n",
       "      <td>67</td>\n",
       "      <td>PLAZA LAMA 27 DE FEB</td>\n",
       "      <td>SUPERMARKET</td>\n",
       "    </tr>\n",
       "    <tr>\n",
       "      <th>10</th>\n",
       "      <td>48</td>\n",
       "      <td>PETRONAN LOS HERMANOS</td>\n",
       "      <td>GAS</td>\n",
       "    </tr>\n",
       "    <tr>\n",
       "      <th>11</th>\n",
       "      <td>69</td>\n",
       "      <td>PAGO ONLINE</td>\n",
       "      <td>PAYMENT</td>\n",
       "    </tr>\n",
       "    <tr>\n",
       "      <th>12</th>\n",
       "      <td>85</td>\n",
       "      <td>NETFLIX.COM</td>\n",
       "      <td>SUBSCRIPTION</td>\n",
       "    </tr>\n",
       "    <tr>\n",
       "      <th>13</th>\n",
       "      <td>70</td>\n",
       "      <td>LOS GUSTOSOS RESTAURANT</td>\n",
       "      <td>RESTAURANT</td>\n",
       "    </tr>\n",
       "    <tr>\n",
       "      <th>14</th>\n",
       "      <td>49</td>\n",
       "      <td>INTERES POR SOBREGIRO</td>\n",
       "      <td>FINANCE CHARGE</td>\n",
       "    </tr>\n",
       "    <tr>\n",
       "      <th>15</th>\n",
       "      <td>86</td>\n",
       "      <td>www.aliexpress.com</td>\n",
       "      <td>ONLINE SHOPPING</td>\n",
       "    </tr>\n",
       "    <tr>\n",
       "      <th>16</th>\n",
       "      <td>50</td>\n",
       "      <td>JUMBO MEGACENTRO</td>\n",
       "      <td>SUPERMARKET</td>\n",
       "    </tr>\n",
       "    <tr>\n",
       "      <th>17</th>\n",
       "      <td>71</td>\n",
       "      <td>ANTHROPIC</td>\n",
       "      <td>SUBSCRIPTION</td>\n",
       "    </tr>\n",
       "    <tr>\n",
       "      <th>18</th>\n",
       "      <td>51</td>\n",
       "      <td>PLZ CENTRAL CINEMAS EP</td>\n",
       "      <td>CINEMA</td>\n",
       "    </tr>\n",
       "    <tr>\n",
       "      <th>19</th>\n",
       "      <td>55</td>\n",
       "      <td>GIL SANFROZZ</td>\n",
       "      <td>GROCERY</td>\n",
       "    </tr>\n",
       "    <tr>\n",
       "      <th>20</th>\n",
       "      <td>72</td>\n",
       "      <td>FIFI POSTRE CASEROS LOS P</td>\n",
       "      <td>DESSERTS</td>\n",
       "    </tr>\n",
       "    <tr>\n",
       "      <th>21</th>\n",
       "      <td>56</td>\n",
       "      <td>PLAZA CENTRAL CINEMAS</td>\n",
       "      <td>CINEMA</td>\n",
       "    </tr>\n",
       "    <tr>\n",
       "      <th>22</th>\n",
       "      <td>87</td>\n",
       "      <td>FRALUSA SRL GRANIER</td>\n",
       "      <td>RESTAURANT</td>\n",
       "    </tr>\n",
       "    <tr>\n",
       "      <th>23</th>\n",
       "      <td>58</td>\n",
       "      <td>FINE ARTS NOVO CENTRO</td>\n",
       "      <td>CINEMA</td>\n",
       "    </tr>\n",
       "    <tr>\n",
       "      <th>24</th>\n",
       "      <td>73</td>\n",
       "      <td>BRAVO OZAMA</td>\n",
       "      <td>SUPERMARKET</td>\n",
       "    </tr>\n",
       "    <tr>\n",
       "      <th>25</th>\n",
       "      <td>61</td>\n",
       "      <td>AHORRO PROMOCION TC</td>\n",
       "      <td>DISCOUNT</td>\n",
       "    </tr>\n",
       "    <tr>\n",
       "      <th>26</th>\n",
       "      <td>53</td>\n",
       "      <td>ALTICE DEBITO DIRECTO</td>\n",
       "      <td>SERVICE PAYMENT</td>\n",
       "    </tr>\n",
       "    <tr>\n",
       "      <th>27</th>\n",
       "      <td>88</td>\n",
       "      <td>SM NACIONAL SAN VICENT</td>\n",
       "      <td>SUPERMARKET</td>\n",
       "    </tr>\n",
       "    <tr>\n",
       "      <th>28</th>\n",
       "      <td>75</td>\n",
       "      <td>FARM CAROL MEGAC II</td>\n",
       "      <td>DRUGSTORE</td>\n",
       "    </tr>\n",
       "    <tr>\n",
       "      <th>29</th>\n",
       "      <td>76</td>\n",
       "      <td>BR FACTORY.COM 2624</td>\n",
       "      <td>ONLINE SHOPPING</td>\n",
       "    </tr>\n",
       "    <tr>\n",
       "      <th>30</th>\n",
       "      <td>92</td>\n",
       "      <td>GRANIER GAZCUE</td>\n",
       "      <td>RESTAURANT</td>\n",
       "    </tr>\n",
       "    <tr>\n",
       "      <th>31</th>\n",
       "      <td>77</td>\n",
       "      <td>GRANIER AVILA JSME SRL</td>\n",
       "      <td>RESTAURANT</td>\n",
       "    </tr>\n",
       "    <tr>\n",
       "      <th>32</th>\n",
       "      <td>78</td>\n",
       "      <td>FIGATA PIZZA</td>\n",
       "      <td>RESTAURANT</td>\n",
       "    </tr>\n",
       "    <tr>\n",
       "      <th>33</th>\n",
       "      <td>90</td>\n",
       "      <td>PIZZARELLI OZAMA</td>\n",
       "      <td>RESTAURANT</td>\n",
       "    </tr>\n",
       "    <tr>\n",
       "      <th>34</th>\n",
       "      <td>79</td>\n",
       "      <td>SM NACIONAL SAN VICENT</td>\n",
       "      <td>SUPERMARKET</td>\n",
       "    </tr>\n",
       "    <tr>\n",
       "      <th>35</th>\n",
       "      <td>84</td>\n",
       "      <td>LA SIRENA VENEZUELA MC</td>\n",
       "      <td>SUPERMARKET</td>\n",
       "    </tr>\n",
       "    <tr>\n",
       "      <th>36</th>\n",
       "      <td>89</td>\n",
       "      <td>PAGO ONLINE</td>\n",
       "      <td>PAYMENT</td>\n",
       "    </tr>\n",
       "    <tr>\n",
       "      <th>37</th>\n",
       "      <td>82</td>\n",
       "      <td>RESTAURANTE LA LUPITA</td>\n",
       "      <td>RESTAURANT</td>\n",
       "    </tr>\n",
       "    <tr>\n",
       "      <th>38</th>\n",
       "      <td>81</td>\n",
       "      <td>FIFI POSTRES CASEROS MGCT</td>\n",
       "      <td>DESSERTS</td>\n",
       "    </tr>\n",
       "    <tr>\n",
       "      <th>39</th>\n",
       "      <td>74</td>\n",
       "      <td>PADEL OASIS</td>\n",
       "      <td>SPORTS</td>\n",
       "    </tr>\n",
       "    <tr>\n",
       "      <th>40</th>\n",
       "      <td>68</td>\n",
       "      <td>HOTEL CATALONIA STO DGO</td>\n",
       "      <td>HOTEL</td>\n",
       "    </tr>\n",
       "    <tr>\n",
       "      <th>41</th>\n",
       "      <td>64</td>\n",
       "      <td>HELADOS BON VENEZUELA</td>\n",
       "      <td>DESSERTS</td>\n",
       "    </tr>\n",
       "  </tbody>\n",
       "</table>\n",
       "</div>"
      ],
      "text/plain": [
       "    id                description         category\n",
       "0   54              SMASH BURGUER       RESTAURANT\n",
       "1   57                     AMAZON  ONLINE SHOPPING\n",
       "2   60     LA SIRENA VENEZUELA MC      SUPERMARKET\n",
       "3   62      COFFEE SHOP ONE PLACE      COFFEE SHOP\n",
       "4   66       Amazon.com*RV0SD8QA2  ONLINE SHOPPING\n",
       "5   59      ALTICE DEBITO DIRECTO  SERVICE PAYMENT\n",
       "6   47     PLAZA CENTRAL CIN  MEG           CINEMA\n",
       "7   65       JAGI CAPS MEGACENTRO      SUPERMARKET\n",
       "8   80     TACOS DEL SOL PIANTINI       RESTAURANT\n",
       "9   67       PLAZA LAMA 27 DE FEB      SUPERMARKET\n",
       "10  48      PETRONAN LOS HERMANOS              GAS\n",
       "11  69                PAGO ONLINE          PAYMENT\n",
       "12  85                NETFLIX.COM     SUBSCRIPTION\n",
       "13  70    LOS GUSTOSOS RESTAURANT       RESTAURANT\n",
       "14  49      INTERES POR SOBREGIRO   FINANCE CHARGE\n",
       "15  86         www.aliexpress.com  ONLINE SHOPPING\n",
       "16  50           JUMBO MEGACENTRO      SUPERMARKET\n",
       "17  71                  ANTHROPIC     SUBSCRIPTION\n",
       "18  51     PLZ CENTRAL CINEMAS EP           CINEMA\n",
       "19  55               GIL SANFROZZ          GROCERY\n",
       "20  72  FIFI POSTRE CASEROS LOS P         DESSERTS\n",
       "21  56      PLAZA CENTRAL CINEMAS           CINEMA\n",
       "22  87        FRALUSA SRL GRANIER       RESTAURANT\n",
       "23  58      FINE ARTS NOVO CENTRO           CINEMA\n",
       "24  73                BRAVO OZAMA      SUPERMARKET\n",
       "25  61        AHORRO PROMOCION TC         DISCOUNT\n",
       "26  53      ALTICE DEBITO DIRECTO  SERVICE PAYMENT\n",
       "27  88     SM NACIONAL SAN VICENT      SUPERMARKET\n",
       "28  75        FARM CAROL MEGAC II        DRUGSTORE\n",
       "29  76        BR FACTORY.COM 2624  ONLINE SHOPPING\n",
       "30  92             GRANIER GAZCUE       RESTAURANT\n",
       "31  77     GRANIER AVILA JSME SRL       RESTAURANT\n",
       "32  78               FIGATA PIZZA       RESTAURANT\n",
       "33  90           PIZZARELLI OZAMA       RESTAURANT\n",
       "34  79     SM NACIONAL SAN VICENT      SUPERMARKET\n",
       "35  84     LA SIRENA VENEZUELA MC      SUPERMARKET\n",
       "36  89                PAGO ONLINE          PAYMENT\n",
       "37  82      RESTAURANTE LA LUPITA       RESTAURANT\n",
       "38  81  FIFI POSTRES CASEROS MGCT         DESSERTS\n",
       "39  74                PADEL OASIS           SPORTS\n",
       "40  68    HOTEL CATALONIA STO DGO            HOTEL\n",
       "41  64      HELADOS BON VENEZUELA         DESSERTS"
      ]
     },
     "execution_count": 6,
     "metadata": {},
     "output_type": "execute_result"
    }
   ],
   "source": [
    "df_knowledge_base = df_knowledge_base[['id', 'description', 'category']]\n",
    "df_knowledge_base"
   ]
  },
  {
   "cell_type": "code",
   "execution_count": 7,
   "id": "4ebe7d38-b766-4dcf-bf51-c2d651016ee3",
   "metadata": {},
   "outputs": [
    {
     "name": "stderr",
     "output_type": "stream",
     "text": [
      "/usr/local/python/3.12.1/lib/python3.12/site-packages/transformers/tokenization_utils_base.py:1601: FutureWarning: `clean_up_tokenization_spaces` was not set. It will be set to `True` by default. This behavior will be depracted in transformers v4.45, and will be then set to `False` by default. For more details check this issue: https://github.com/huggingface/transformers/issues/31884\n",
      "  warnings.warn(\n"
     ]
    }
   ],
   "source": [
    "model_name = 'all-MiniLM-L6-v2'\n",
    "embedding_model = SentenceTransformer(model_name)"
   ]
  },
  {
   "cell_type": "code",
   "execution_count": 31,
   "id": "6c6c2f44-89f8-4ae6-9775-8b8f722dc94c",
   "metadata": {},
   "outputs": [],
   "source": [
    "cats = df_knowledge_base.to_dict('records')"
   ]
  },
  {
   "cell_type": "code",
   "execution_count": 32,
   "id": "8d24c82e-f55c-4503-b804-a5f5a6c7701e",
   "metadata": {},
   "outputs": [
    {
     "data": {
      "text/plain": [
       "[{'id': 54, 'description': 'SMASH BURGUER', 'category': 'RESTAURANT'},\n",
       " {'id': 57, 'description': 'AMAZON', 'category': 'ONLINE SHOPPING'},\n",
       " {'id': 60,\n",
       "  'description': 'LA SIRENA VENEZUELA MC',\n",
       "  'category': 'SUPERMARKET'},\n",
       " {'id': 62, 'description': 'COFFEE SHOP ONE PLACE', 'category': 'COFFEE SHOP'},\n",
       " {'id': 66,\n",
       "  'description': 'Amazon.com*RV0SD8QA2',\n",
       "  'category': 'ONLINE SHOPPING'},\n",
       " {'id': 59,\n",
       "  'description': 'ALTICE DEBITO DIRECTO',\n",
       "  'category': 'SERVICE PAYMENT'},\n",
       " {'id': 47, 'description': 'PLAZA CENTRAL CIN  MEG', 'category': 'CINEMA'},\n",
       " {'id': 65, 'description': 'JAGI CAPS MEGACENTRO', 'category': 'SUPERMARKET'},\n",
       " {'id': 80, 'description': 'TACOS DEL SOL PIANTINI', 'category': 'RESTAURANT'},\n",
       " {'id': 67, 'description': 'PLAZA LAMA 27 DE FEB', 'category': 'SUPERMARKET'},\n",
       " {'id': 48, 'description': 'PETRONAN LOS HERMANOS', 'category': 'GAS'},\n",
       " {'id': 69, 'description': 'PAGO ONLINE', 'category': 'PAYMENT'},\n",
       " {'id': 85, 'description': 'NETFLIX.COM', 'category': 'SUBSCRIPTION'},\n",
       " {'id': 70,\n",
       "  'description': 'LOS GUSTOSOS RESTAURANT',\n",
       "  'category': 'RESTAURANT'},\n",
       " {'id': 49,\n",
       "  'description': 'INTERES POR SOBREGIRO',\n",
       "  'category': 'FINANCE CHARGE'},\n",
       " {'id': 86,\n",
       "  'description': 'www.aliexpress.com',\n",
       "  'category': 'ONLINE SHOPPING'},\n",
       " {'id': 50, 'description': 'JUMBO MEGACENTRO', 'category': 'SUPERMARKET'},\n",
       " {'id': 71, 'description': 'ANTHROPIC', 'category': 'SUBSCRIPTION'},\n",
       " {'id': 51, 'description': 'PLZ CENTRAL CINEMAS EP', 'category': 'CINEMA'},\n",
       " {'id': 55, 'description': 'GIL SANFROZZ', 'category': 'GROCERY'},\n",
       " {'id': 72,\n",
       "  'description': 'FIFI POSTRE CASEROS LOS P',\n",
       "  'category': 'DESSERTS'},\n",
       " {'id': 56, 'description': 'PLAZA CENTRAL CINEMAS', 'category': 'CINEMA'},\n",
       " {'id': 87, 'description': 'FRALUSA SRL GRANIER', 'category': 'RESTAURANT'},\n",
       " {'id': 58, 'description': 'FINE ARTS NOVO CENTRO', 'category': 'CINEMA'},\n",
       " {'id': 73, 'description': 'BRAVO OZAMA', 'category': 'SUPERMARKET'},\n",
       " {'id': 61, 'description': 'AHORRO PROMOCION TC', 'category': 'DISCOUNT'},\n",
       " {'id': 53,\n",
       "  'description': 'ALTICE DEBITO DIRECTO',\n",
       "  'category': 'SERVICE PAYMENT'},\n",
       " {'id': 88,\n",
       "  'description': 'SM NACIONAL SAN VICENT',\n",
       "  'category': 'SUPERMARKET'},\n",
       " {'id': 75, 'description': 'FARM CAROL MEGAC II', 'category': 'DRUGSTORE'},\n",
       " {'id': 76,\n",
       "  'description': 'BR FACTORY.COM 2624',\n",
       "  'category': 'ONLINE SHOPPING'},\n",
       " {'id': 92, 'description': 'GRANIER GAZCUE', 'category': 'RESTAURANT'},\n",
       " {'id': 77, 'description': 'GRANIER AVILA JSME SRL', 'category': 'RESTAURANT'},\n",
       " {'id': 78, 'description': 'FIGATA PIZZA', 'category': 'RESTAURANT'},\n",
       " {'id': 90, 'description': 'PIZZARELLI OZAMA', 'category': 'RESTAURANT'},\n",
       " {'id': 79,\n",
       "  'description': 'SM NACIONAL SAN VICENT',\n",
       "  'category': 'SUPERMARKET'},\n",
       " {'id': 84,\n",
       "  'description': 'LA SIRENA VENEZUELA MC',\n",
       "  'category': 'SUPERMARKET'},\n",
       " {'id': 89, 'description': 'PAGO ONLINE', 'category': 'PAYMENT'},\n",
       " {'id': 82, 'description': 'RESTAURANTE LA LUPITA', 'category': 'RESTAURANT'},\n",
       " {'id': 81,\n",
       "  'description': 'FIFI POSTRES CASEROS MGCT',\n",
       "  'category': 'DESSERTS'},\n",
       " {'id': 74, 'description': 'PADEL OASIS', 'category': 'SPORTS'},\n",
       " {'id': 68, 'description': 'HOTEL CATALONIA STO DGO', 'category': 'HOTEL'},\n",
       " {'id': 64, 'description': 'HELADOS BON VENEZUELA', 'category': 'DESSERTS'}]"
      ]
     },
     "execution_count": 32,
     "metadata": {},
     "output_type": "execute_result"
    }
   ],
   "source": [
    "cats"
   ]
  },
  {
   "cell_type": "code",
   "execution_count": 33,
   "id": "bc9b47a6-5a2d-4283-9a6d-975039b0565d",
   "metadata": {},
   "outputs": [
    {
     "data": {
      "application/vnd.jupyter.widget-view+json": {
       "model_id": "a1871d85a6104f9ba9c5d451028290fb",
       "version_major": 2,
       "version_minor": 0
      },
      "text/plain": [
       "  0%|          | 0/42 [00:00<?, ?it/s]"
      ]
     },
     "metadata": {},
     "output_type": "display_data"
    }
   ],
   "source": [
    "embeddings = []\n",
    "\n",
    "for cat in tqdm(cats):\n",
    "    description = cat['description']\n",
    "    category = cat['category']\n",
    "    cat_text = f'{description} {category}'\n",
    "    embedding = embedding_model.encode(cat_text)\n",
    "    embeddings.append(embedding)"
   ]
  },
  {
   "cell_type": "code",
   "execution_count": 34,
   "id": "f32af1f6-f5f6-4371-87c6-034f569b3c2d",
   "metadata": {},
   "outputs": [
    {
     "data": {
      "text/plain": [
       "(42, 384)"
      ]
     },
     "execution_count": 34,
     "metadata": {},
     "output_type": "execute_result"
    }
   ],
   "source": [
    "import numpy as np\n",
    "\n",
    "X = np.array(embeddings)\n",
    "X.shape"
   ]
  },
  {
   "cell_type": "code",
   "execution_count": 35,
   "id": "b35fd948-430f-4b60-a3ff-7eb32ae3faa9",
   "metadata": {},
   "outputs": [
    {
     "data": {
      "text/plain": [
       "np.float32(0.06174844)"
      ]
     },
     "execution_count": 35,
     "metadata": {},
     "output_type": "execute_result"
    }
   ],
   "source": [
    "to_predict = 'LA SIRENA'\n",
    "encoding = embedding_model.encode(to_predict)\n",
    "encoding[0]"
   ]
  },
  {
   "cell_type": "code",
   "execution_count": 36,
   "id": "02484346-dfb2-4054-bd73-9abfedcee553",
   "metadata": {},
   "outputs": [
    {
     "data": {
      "text/plain": [
       "np.float32(0.66853565)"
      ]
     },
     "execution_count": 36,
     "metadata": {},
     "output_type": "execute_result"
    }
   ],
   "source": [
    "v = encoding\n",
    "scores = X.dot(v)\n",
    "scores.max()"
   ]
  },
  {
   "cell_type": "code",
   "execution_count": 37,
   "id": "9295c98d-a925-4585-ae1b-b6c6dd64474d",
   "metadata": {},
   "outputs": [
    {
     "data": {
      "text/plain": [
       "384"
      ]
     },
     "execution_count": 37,
     "metadata": {},
     "output_type": "execute_result"
    }
   ],
   "source": [
    "len(v)"
   ]
  },
  {
   "cell_type": "code",
   "execution_count": 38,
   "id": "d9a97097-5952-42de-905e-203e6dce27f7",
   "metadata": {},
   "outputs": [],
   "source": [
    "class VectorSearchEngine():\n",
    "    def __init__(self, documents, embeddings):\n",
    "        self.documents = documents\n",
    "        self.embeddings = embeddings\n",
    "\n",
    "    def search(self, v_query, num_results=10):\n",
    "        scores = self.embeddings.dot(v_query)\n",
    "        idx = np.argsort(-scores)[:num_results]\n",
    "        return [self.documents[i] for i in idx]"
   ]
  },
  {
   "cell_type": "code",
   "execution_count": 39,
   "id": "9c419e89-3d24-46e5-a34d-ca5a3dcb65d0",
   "metadata": {
    "scrolled": true
   },
   "outputs": [
    {
     "data": {
      "text/plain": [
       "[{'id': 60,\n",
       "  'description': 'LA SIRENA VENEZUELA MC',\n",
       "  'category': 'SUPERMARKET'},\n",
       " {'id': 84,\n",
       "  'description': 'LA SIRENA VENEZUELA MC',\n",
       "  'category': 'SUPERMARKET'}]"
      ]
     },
     "execution_count": 39,
     "metadata": {},
     "output_type": "execute_result"
    }
   ],
   "source": [
    "search_engine = VectorSearchEngine(documents=cats, embeddings=X)\n",
    "search_engine.search(v, num_results=2)"
   ]
  },
  {
   "cell_type": "code",
   "execution_count": 8,
   "id": "88b25000-67ec-442f-9cb1-0294f3e76dea",
   "metadata": {},
   "outputs": [],
   "source": [
    "from elasticsearch import Elasticsearch\n",
    "\n",
    "es_client = Elasticsearch('http://127.0.0.1:9200', request_timeout=500) \n",
    "\n",
    "index_settings = {\n",
    "    \"settings\": {\n",
    "        \"number_of_shards\": 1,\n",
    "        \"number_of_replicas\": 0\n",
    "    },\n",
    "    \"mappings\": {\n",
    "        \"properties\": {\n",
    "            \"id\": {\"type\": \"keyword\"},\n",
    "            \"description\": {\"type\": \"text\"},\n",
    "            \"category\": {\"type\": \"text\"},\n",
    "            \"description_vector\": {\n",
    "                \"type\": \"dense_vector\",\n",
    "                \"dims\": 384,\n",
    "                \"index\": True,\n",
    "                \"similarity\": \"cosine\"\n",
    "            },\n",
    "        }\n",
    "    }\n",
    "}\n",
    "\n",
    "index_name = \"categories\""
   ]
  },
  {
   "cell_type": "code",
   "execution_count": 9,
   "id": "542efd1f-d3a8-455c-9eeb-261f13f1f172",
   "metadata": {},
   "outputs": [
    {
     "ename": "ConnectionError",
     "evalue": "Connection error caused by: ConnectionError(Connection error caused by: NewConnectionError(<urllib3.connection.HTTPConnection object at 0x725076f32f00>: Failed to establish a new connection: [Errno 111] Connection refused))",
     "output_type": "error",
     "traceback": [
      "\u001b[0;31m---------------------------------------------------------------------------\u001b[0m",
      "\u001b[0;31mConnectionError\u001b[0m                           Traceback (most recent call last)",
      "Cell \u001b[0;32mIn[9], line 1\u001b[0m\n\u001b[0;32m----> 1\u001b[0m \u001b[43mes_client\u001b[49m\u001b[38;5;241;43m.\u001b[39;49m\u001b[43mindices\u001b[49m\u001b[38;5;241;43m.\u001b[39;49m\u001b[43mdelete\u001b[49m\u001b[43m(\u001b[49m\u001b[43mindex\u001b[49m\u001b[38;5;241;43m=\u001b[39;49m\u001b[43mindex_name\u001b[49m\u001b[43m,\u001b[49m\u001b[43m \u001b[49m\u001b[43mignore_unavailable\u001b[49m\u001b[38;5;241;43m=\u001b[39;49m\u001b[38;5;28;43;01mTrue\u001b[39;49;00m\u001b[43m)\u001b[49m\n",
      "File \u001b[0;32m/usr/local/python/3.12.1/lib/python3.12/site-packages/elasticsearch/_sync/client/utils.py:446\u001b[0m, in \u001b[0;36m_rewrite_parameters.<locals>.wrapper.<locals>.wrapped\u001b[0;34m(*args, **kwargs)\u001b[0m\n\u001b[1;32m    443\u001b[0m         \u001b[38;5;28;01mexcept\u001b[39;00m \u001b[38;5;167;01mKeyError\u001b[39;00m:\n\u001b[1;32m    444\u001b[0m             \u001b[38;5;28;01mpass\u001b[39;00m\n\u001b[0;32m--> 446\u001b[0m \u001b[38;5;28;01mreturn\u001b[39;00m \u001b[43mapi\u001b[49m\u001b[43m(\u001b[49m\u001b[38;5;241;43m*\u001b[39;49m\u001b[43margs\u001b[49m\u001b[43m,\u001b[49m\u001b[43m \u001b[49m\u001b[38;5;241;43m*\u001b[39;49m\u001b[38;5;241;43m*\u001b[39;49m\u001b[43mkwargs\u001b[49m\u001b[43m)\u001b[49m\n",
      "File \u001b[0;32m/usr/local/python/3.12.1/lib/python3.12/site-packages/elasticsearch/_sync/client/indices.py:727\u001b[0m, in \u001b[0;36mIndicesClient.delete\u001b[0;34m(self, index, allow_no_indices, error_trace, expand_wildcards, filter_path, human, ignore_unavailable, master_timeout, pretty, timeout)\u001b[0m\n\u001b[1;32m    725\u001b[0m     __query[\u001b[38;5;124m\"\u001b[39m\u001b[38;5;124mtimeout\u001b[39m\u001b[38;5;124m\"\u001b[39m] \u001b[38;5;241m=\u001b[39m timeout\n\u001b[1;32m    726\u001b[0m __headers \u001b[38;5;241m=\u001b[39m {\u001b[38;5;124m\"\u001b[39m\u001b[38;5;124maccept\u001b[39m\u001b[38;5;124m\"\u001b[39m: \u001b[38;5;124m\"\u001b[39m\u001b[38;5;124mapplication/json\u001b[39m\u001b[38;5;124m\"\u001b[39m}\n\u001b[0;32m--> 727\u001b[0m \u001b[38;5;28;01mreturn\u001b[39;00m \u001b[38;5;28;43mself\u001b[39;49m\u001b[38;5;241;43m.\u001b[39;49m\u001b[43mperform_request\u001b[49m\u001b[43m(\u001b[49m\u001b[43m  \u001b[49m\u001b[38;5;66;43;03m# type: ignore[return-value]\u001b[39;49;00m\n\u001b[1;32m    728\u001b[0m \u001b[43m    \u001b[49m\u001b[38;5;124;43m\"\u001b[39;49m\u001b[38;5;124;43mDELETE\u001b[39;49m\u001b[38;5;124;43m\"\u001b[39;49m\u001b[43m,\u001b[49m\n\u001b[1;32m    729\u001b[0m \u001b[43m    \u001b[49m\u001b[43m__path\u001b[49m\u001b[43m,\u001b[49m\n\u001b[1;32m    730\u001b[0m \u001b[43m    \u001b[49m\u001b[43mparams\u001b[49m\u001b[38;5;241;43m=\u001b[39;49m\u001b[43m__query\u001b[49m\u001b[43m,\u001b[49m\n\u001b[1;32m    731\u001b[0m \u001b[43m    \u001b[49m\u001b[43mheaders\u001b[49m\u001b[38;5;241;43m=\u001b[39;49m\u001b[43m__headers\u001b[49m\u001b[43m,\u001b[49m\n\u001b[1;32m    732\u001b[0m \u001b[43m    \u001b[49m\u001b[43mendpoint_id\u001b[49m\u001b[38;5;241;43m=\u001b[39;49m\u001b[38;5;124;43m\"\u001b[39;49m\u001b[38;5;124;43mindices.delete\u001b[39;49m\u001b[38;5;124;43m\"\u001b[39;49m\u001b[43m,\u001b[49m\n\u001b[1;32m    733\u001b[0m \u001b[43m    \u001b[49m\u001b[43mpath_parts\u001b[49m\u001b[38;5;241;43m=\u001b[39;49m\u001b[43m__path_parts\u001b[49m\u001b[43m,\u001b[49m\n\u001b[1;32m    734\u001b[0m \u001b[43m\u001b[49m\u001b[43m)\u001b[49m\n",
      "File \u001b[0;32m/usr/local/python/3.12.1/lib/python3.12/site-packages/elasticsearch/_sync/client/_base.py:423\u001b[0m, in \u001b[0;36mNamespacedClient.perform_request\u001b[0;34m(self, method, path, params, headers, body, endpoint_id, path_parts)\u001b[0m\n\u001b[1;32m    410\u001b[0m \u001b[38;5;28;01mdef\u001b[39;00m \u001b[38;5;21mperform_request\u001b[39m(\n\u001b[1;32m    411\u001b[0m     \u001b[38;5;28mself\u001b[39m,\n\u001b[1;32m    412\u001b[0m     method: \u001b[38;5;28mstr\u001b[39m,\n\u001b[0;32m   (...)\u001b[0m\n\u001b[1;32m    421\u001b[0m     \u001b[38;5;66;03m# Use the internal clients .perform_request() implementation\u001b[39;00m\n\u001b[1;32m    422\u001b[0m     \u001b[38;5;66;03m# so we take advantage of their transport options.\u001b[39;00m\n\u001b[0;32m--> 423\u001b[0m     \u001b[38;5;28;01mreturn\u001b[39;00m \u001b[38;5;28;43mself\u001b[39;49m\u001b[38;5;241;43m.\u001b[39;49m\u001b[43m_client\u001b[49m\u001b[38;5;241;43m.\u001b[39;49m\u001b[43mperform_request\u001b[49m\u001b[43m(\u001b[49m\n\u001b[1;32m    424\u001b[0m \u001b[43m        \u001b[49m\u001b[43mmethod\u001b[49m\u001b[43m,\u001b[49m\n\u001b[1;32m    425\u001b[0m \u001b[43m        \u001b[49m\u001b[43mpath\u001b[49m\u001b[43m,\u001b[49m\n\u001b[1;32m    426\u001b[0m \u001b[43m        \u001b[49m\u001b[43mparams\u001b[49m\u001b[38;5;241;43m=\u001b[39;49m\u001b[43mparams\u001b[49m\u001b[43m,\u001b[49m\n\u001b[1;32m    427\u001b[0m \u001b[43m        \u001b[49m\u001b[43mheaders\u001b[49m\u001b[38;5;241;43m=\u001b[39;49m\u001b[43mheaders\u001b[49m\u001b[43m,\u001b[49m\n\u001b[1;32m    428\u001b[0m \u001b[43m        \u001b[49m\u001b[43mbody\u001b[49m\u001b[38;5;241;43m=\u001b[39;49m\u001b[43mbody\u001b[49m\u001b[43m,\u001b[49m\n\u001b[1;32m    429\u001b[0m \u001b[43m        \u001b[49m\u001b[43mendpoint_id\u001b[49m\u001b[38;5;241;43m=\u001b[39;49m\u001b[43mendpoint_id\u001b[49m\u001b[43m,\u001b[49m\n\u001b[1;32m    430\u001b[0m \u001b[43m        \u001b[49m\u001b[43mpath_parts\u001b[49m\u001b[38;5;241;43m=\u001b[39;49m\u001b[43mpath_parts\u001b[49m\u001b[43m,\u001b[49m\n\u001b[1;32m    431\u001b[0m \u001b[43m    \u001b[49m\u001b[43m)\u001b[49m\n",
      "File \u001b[0;32m/usr/local/python/3.12.1/lib/python3.12/site-packages/elasticsearch/_sync/client/_base.py:271\u001b[0m, in \u001b[0;36mBaseClient.perform_request\u001b[0;34m(self, method, path, params, headers, body, endpoint_id, path_parts)\u001b[0m\n\u001b[1;32m    255\u001b[0m \u001b[38;5;28;01mdef\u001b[39;00m \u001b[38;5;21mperform_request\u001b[39m(\n\u001b[1;32m    256\u001b[0m     \u001b[38;5;28mself\u001b[39m,\n\u001b[1;32m    257\u001b[0m     method: \u001b[38;5;28mstr\u001b[39m,\n\u001b[0;32m   (...)\u001b[0m\n\u001b[1;32m    264\u001b[0m     path_parts: Optional[Mapping[\u001b[38;5;28mstr\u001b[39m, Any]] \u001b[38;5;241m=\u001b[39m \u001b[38;5;28;01mNone\u001b[39;00m,\n\u001b[1;32m    265\u001b[0m ) \u001b[38;5;241m-\u001b[39m\u001b[38;5;241m>\u001b[39m ApiResponse[Any]:\n\u001b[1;32m    266\u001b[0m     \u001b[38;5;28;01mwith\u001b[39;00m \u001b[38;5;28mself\u001b[39m\u001b[38;5;241m.\u001b[39m_otel\u001b[38;5;241m.\u001b[39mspan(\n\u001b[1;32m    267\u001b[0m         method,\n\u001b[1;32m    268\u001b[0m         endpoint_id\u001b[38;5;241m=\u001b[39mendpoint_id,\n\u001b[1;32m    269\u001b[0m         path_parts\u001b[38;5;241m=\u001b[39mpath_parts \u001b[38;5;129;01mor\u001b[39;00m {},\n\u001b[1;32m    270\u001b[0m     ) \u001b[38;5;28;01mas\u001b[39;00m otel_span:\n\u001b[0;32m--> 271\u001b[0m         response \u001b[38;5;241m=\u001b[39m \u001b[38;5;28;43mself\u001b[39;49m\u001b[38;5;241;43m.\u001b[39;49m\u001b[43m_perform_request\u001b[49m\u001b[43m(\u001b[49m\n\u001b[1;32m    272\u001b[0m \u001b[43m            \u001b[49m\u001b[43mmethod\u001b[49m\u001b[43m,\u001b[49m\n\u001b[1;32m    273\u001b[0m \u001b[43m            \u001b[49m\u001b[43mpath\u001b[49m\u001b[43m,\u001b[49m\n\u001b[1;32m    274\u001b[0m \u001b[43m            \u001b[49m\u001b[43mparams\u001b[49m\u001b[38;5;241;43m=\u001b[39;49m\u001b[43mparams\u001b[49m\u001b[43m,\u001b[49m\n\u001b[1;32m    275\u001b[0m \u001b[43m            \u001b[49m\u001b[43mheaders\u001b[49m\u001b[38;5;241;43m=\u001b[39;49m\u001b[43mheaders\u001b[49m\u001b[43m,\u001b[49m\n\u001b[1;32m    276\u001b[0m \u001b[43m            \u001b[49m\u001b[43mbody\u001b[49m\u001b[38;5;241;43m=\u001b[39;49m\u001b[43mbody\u001b[49m\u001b[43m,\u001b[49m\n\u001b[1;32m    277\u001b[0m \u001b[43m            \u001b[49m\u001b[43motel_span\u001b[49m\u001b[38;5;241;43m=\u001b[39;49m\u001b[43motel_span\u001b[49m\u001b[43m,\u001b[49m\n\u001b[1;32m    278\u001b[0m \u001b[43m        \u001b[49m\u001b[43m)\u001b[49m\n\u001b[1;32m    279\u001b[0m         otel_span\u001b[38;5;241m.\u001b[39mset_elastic_cloud_metadata(response\u001b[38;5;241m.\u001b[39mmeta\u001b[38;5;241m.\u001b[39mheaders)\n\u001b[1;32m    280\u001b[0m         \u001b[38;5;28;01mreturn\u001b[39;00m response\n",
      "File \u001b[0;32m/usr/local/python/3.12.1/lib/python3.12/site-packages/elasticsearch/_sync/client/_base.py:316\u001b[0m, in \u001b[0;36mBaseClient._perform_request\u001b[0;34m(self, method, path, params, headers, body, otel_span)\u001b[0m\n\u001b[1;32m    313\u001b[0m \u001b[38;5;28;01melse\u001b[39;00m:\n\u001b[1;32m    314\u001b[0m     target \u001b[38;5;241m=\u001b[39m path\n\u001b[0;32m--> 316\u001b[0m meta, resp_body \u001b[38;5;241m=\u001b[39m \u001b[38;5;28;43mself\u001b[39;49m\u001b[38;5;241;43m.\u001b[39;49m\u001b[43mtransport\u001b[49m\u001b[38;5;241;43m.\u001b[39;49m\u001b[43mperform_request\u001b[49m\u001b[43m(\u001b[49m\n\u001b[1;32m    317\u001b[0m \u001b[43m    \u001b[49m\u001b[43mmethod\u001b[49m\u001b[43m,\u001b[49m\n\u001b[1;32m    318\u001b[0m \u001b[43m    \u001b[49m\u001b[43mtarget\u001b[49m\u001b[43m,\u001b[49m\n\u001b[1;32m    319\u001b[0m \u001b[43m    \u001b[49m\u001b[43mheaders\u001b[49m\u001b[38;5;241;43m=\u001b[39;49m\u001b[43mrequest_headers\u001b[49m\u001b[43m,\u001b[49m\n\u001b[1;32m    320\u001b[0m \u001b[43m    \u001b[49m\u001b[43mbody\u001b[49m\u001b[38;5;241;43m=\u001b[39;49m\u001b[43mbody\u001b[49m\u001b[43m,\u001b[49m\n\u001b[1;32m    321\u001b[0m \u001b[43m    \u001b[49m\u001b[43mrequest_timeout\u001b[49m\u001b[38;5;241;43m=\u001b[39;49m\u001b[38;5;28;43mself\u001b[39;49m\u001b[38;5;241;43m.\u001b[39;49m\u001b[43m_request_timeout\u001b[49m\u001b[43m,\u001b[49m\n\u001b[1;32m    322\u001b[0m \u001b[43m    \u001b[49m\u001b[43mmax_retries\u001b[49m\u001b[38;5;241;43m=\u001b[39;49m\u001b[38;5;28;43mself\u001b[39;49m\u001b[38;5;241;43m.\u001b[39;49m\u001b[43m_max_retries\u001b[49m\u001b[43m,\u001b[49m\n\u001b[1;32m    323\u001b[0m \u001b[43m    \u001b[49m\u001b[43mretry_on_status\u001b[49m\u001b[38;5;241;43m=\u001b[39;49m\u001b[38;5;28;43mself\u001b[39;49m\u001b[38;5;241;43m.\u001b[39;49m\u001b[43m_retry_on_status\u001b[49m\u001b[43m,\u001b[49m\n\u001b[1;32m    324\u001b[0m \u001b[43m    \u001b[49m\u001b[43mretry_on_timeout\u001b[49m\u001b[38;5;241;43m=\u001b[39;49m\u001b[38;5;28;43mself\u001b[39;49m\u001b[38;5;241;43m.\u001b[39;49m\u001b[43m_retry_on_timeout\u001b[49m\u001b[43m,\u001b[49m\n\u001b[1;32m    325\u001b[0m \u001b[43m    \u001b[49m\u001b[43mclient_meta\u001b[49m\u001b[38;5;241;43m=\u001b[39;49m\u001b[38;5;28;43mself\u001b[39;49m\u001b[38;5;241;43m.\u001b[39;49m\u001b[43m_client_meta\u001b[49m\u001b[43m,\u001b[49m\n\u001b[1;32m    326\u001b[0m \u001b[43m    \u001b[49m\u001b[43motel_span\u001b[49m\u001b[38;5;241;43m=\u001b[39;49m\u001b[43motel_span\u001b[49m\u001b[43m,\u001b[49m\n\u001b[1;32m    327\u001b[0m \u001b[43m\u001b[49m\u001b[43m)\u001b[49m\n\u001b[1;32m    329\u001b[0m \u001b[38;5;66;03m# HEAD with a 404 is returned as a normal response\u001b[39;00m\n\u001b[1;32m    330\u001b[0m \u001b[38;5;66;03m# since this is used as an 'exists' functionality.\u001b[39;00m\n\u001b[1;32m    331\u001b[0m \u001b[38;5;28;01mif\u001b[39;00m \u001b[38;5;129;01mnot\u001b[39;00m (method \u001b[38;5;241m==\u001b[39m \u001b[38;5;124m\"\u001b[39m\u001b[38;5;124mHEAD\u001b[39m\u001b[38;5;124m\"\u001b[39m \u001b[38;5;129;01mand\u001b[39;00m meta\u001b[38;5;241m.\u001b[39mstatus \u001b[38;5;241m==\u001b[39m \u001b[38;5;241m404\u001b[39m) \u001b[38;5;129;01mand\u001b[39;00m (\n\u001b[1;32m    332\u001b[0m     \u001b[38;5;129;01mnot\u001b[39;00m \u001b[38;5;241m200\u001b[39m \u001b[38;5;241m<\u001b[39m\u001b[38;5;241m=\u001b[39m meta\u001b[38;5;241m.\u001b[39mstatus \u001b[38;5;241m<\u001b[39m \u001b[38;5;241m299\u001b[39m\n\u001b[1;32m    333\u001b[0m     \u001b[38;5;129;01mand\u001b[39;00m (\n\u001b[0;32m   (...)\u001b[0m\n\u001b[1;32m    337\u001b[0m     )\n\u001b[1;32m    338\u001b[0m ):\n",
      "File \u001b[0;32m/usr/local/python/3.12.1/lib/python3.12/site-packages/elastic_transport/_transport.py:342\u001b[0m, in \u001b[0;36mTransport.perform_request\u001b[0;34m(self, method, target, body, headers, max_retries, retry_on_status, retry_on_timeout, request_timeout, client_meta, otel_span)\u001b[0m\n\u001b[1;32m    340\u001b[0m \u001b[38;5;28;01mtry\u001b[39;00m:\n\u001b[1;32m    341\u001b[0m     otel_span\u001b[38;5;241m.\u001b[39mset_node_metadata(node\u001b[38;5;241m.\u001b[39mhost, node\u001b[38;5;241m.\u001b[39mport, node\u001b[38;5;241m.\u001b[39mbase_url, target)\n\u001b[0;32m--> 342\u001b[0m     resp \u001b[38;5;241m=\u001b[39m \u001b[43mnode\u001b[49m\u001b[38;5;241;43m.\u001b[39;49m\u001b[43mperform_request\u001b[49m\u001b[43m(\u001b[49m\n\u001b[1;32m    343\u001b[0m \u001b[43m        \u001b[49m\u001b[43mmethod\u001b[49m\u001b[43m,\u001b[49m\n\u001b[1;32m    344\u001b[0m \u001b[43m        \u001b[49m\u001b[43mtarget\u001b[49m\u001b[43m,\u001b[49m\n\u001b[1;32m    345\u001b[0m \u001b[43m        \u001b[49m\u001b[43mbody\u001b[49m\u001b[38;5;241;43m=\u001b[39;49m\u001b[43mrequest_body\u001b[49m\u001b[43m,\u001b[49m\n\u001b[1;32m    346\u001b[0m \u001b[43m        \u001b[49m\u001b[43mheaders\u001b[49m\u001b[38;5;241;43m=\u001b[39;49m\u001b[43mrequest_headers\u001b[49m\u001b[43m,\u001b[49m\n\u001b[1;32m    347\u001b[0m \u001b[43m        \u001b[49m\u001b[43mrequest_timeout\u001b[49m\u001b[38;5;241;43m=\u001b[39;49m\u001b[43mrequest_timeout\u001b[49m\u001b[43m,\u001b[49m\n\u001b[1;32m    348\u001b[0m \u001b[43m    \u001b[49m\u001b[43m)\u001b[49m\n\u001b[1;32m    349\u001b[0m     _logger\u001b[38;5;241m.\u001b[39minfo(\n\u001b[1;32m    350\u001b[0m         \u001b[38;5;124m\"\u001b[39m\u001b[38;5;132;01m%s\u001b[39;00m\u001b[38;5;124m \u001b[39m\u001b[38;5;132;01m%s\u001b[39;00m\u001b[38;5;132;01m%s\u001b[39;00m\u001b[38;5;124m [status:\u001b[39m\u001b[38;5;132;01m%s\u001b[39;00m\u001b[38;5;124m duration:\u001b[39m\u001b[38;5;132;01m%.3f\u001b[39;00m\u001b[38;5;124ms]\u001b[39m\u001b[38;5;124m\"\u001b[39m\n\u001b[1;32m    351\u001b[0m         \u001b[38;5;241m%\u001b[39m (\n\u001b[0;32m   (...)\u001b[0m\n\u001b[1;32m    357\u001b[0m         )\n\u001b[1;32m    358\u001b[0m     )\n\u001b[1;32m    360\u001b[0m     \u001b[38;5;28;01mif\u001b[39;00m method \u001b[38;5;241m!=\u001b[39m \u001b[38;5;124m\"\u001b[39m\u001b[38;5;124mHEAD\u001b[39m\u001b[38;5;124m\"\u001b[39m:\n",
      "File \u001b[0;32m/usr/local/python/3.12.1/lib/python3.12/site-packages/elastic_transport/_node/_http_urllib3.py:202\u001b[0m, in \u001b[0;36mUrllib3HttpNode.perform_request\u001b[0;34m(self, method, target, body, headers, request_timeout)\u001b[0m\n\u001b[1;32m    194\u001b[0m         err \u001b[38;5;241m=\u001b[39m \u001b[38;5;167;01mConnectionError\u001b[39;00m(\u001b[38;5;28mstr\u001b[39m(e), errors\u001b[38;5;241m=\u001b[39m(e,))\n\u001b[1;32m    195\u001b[0m     \u001b[38;5;28mself\u001b[39m\u001b[38;5;241m.\u001b[39m_log_request(\n\u001b[1;32m    196\u001b[0m         method\u001b[38;5;241m=\u001b[39mmethod,\n\u001b[1;32m    197\u001b[0m         target\u001b[38;5;241m=\u001b[39mtarget,\n\u001b[0;32m   (...)\u001b[0m\n\u001b[1;32m    200\u001b[0m         exception\u001b[38;5;241m=\u001b[39merr,\n\u001b[1;32m    201\u001b[0m     )\n\u001b[0;32m--> 202\u001b[0m     \u001b[38;5;28;01mraise\u001b[39;00m err \u001b[38;5;28;01mfrom\u001b[39;00m \u001b[38;5;28;01mNone\u001b[39;00m\n\u001b[1;32m    204\u001b[0m meta \u001b[38;5;241m=\u001b[39m ApiResponseMeta(\n\u001b[1;32m    205\u001b[0m     node\u001b[38;5;241m=\u001b[39m\u001b[38;5;28mself\u001b[39m\u001b[38;5;241m.\u001b[39mconfig,\n\u001b[1;32m    206\u001b[0m     duration\u001b[38;5;241m=\u001b[39mduration,\n\u001b[0;32m   (...)\u001b[0m\n\u001b[1;32m    209\u001b[0m     headers\u001b[38;5;241m=\u001b[39mresponse_headers,\n\u001b[1;32m    210\u001b[0m )\n\u001b[1;32m    211\u001b[0m \u001b[38;5;28mself\u001b[39m\u001b[38;5;241m.\u001b[39m_log_request(\n\u001b[1;32m    212\u001b[0m     method\u001b[38;5;241m=\u001b[39mmethod,\n\u001b[1;32m    213\u001b[0m     target\u001b[38;5;241m=\u001b[39mtarget,\n\u001b[0;32m   (...)\u001b[0m\n\u001b[1;32m    217\u001b[0m     response\u001b[38;5;241m=\u001b[39mdata,\n\u001b[1;32m    218\u001b[0m )\n",
      "\u001b[0;31mConnectionError\u001b[0m: Connection error caused by: ConnectionError(Connection error caused by: NewConnectionError(<urllib3.connection.HTTPConnection object at 0x725076f32f00>: Failed to establish a new connection: [Errno 111] Connection refused))"
     ]
    }
   ],
   "source": [
    "es_client.indices.delete(index=index_name, ignore_unavailable=True)"
   ]
  },
  {
   "cell_type": "code",
   "execution_count": 10,
   "id": "36a44c33-67d6-4345-bef6-f472dd96f031",
   "metadata": {},
   "outputs": [
    {
     "ename": "ConnectionError",
     "evalue": "Connection error caused by: ConnectionError(Connection error caused by: NewConnectionError(<urllib3.connection.HTTPConnection object at 0x725076a486b0>: Failed to establish a new connection: [Errno 111] Connection refused))",
     "output_type": "error",
     "traceback": [
      "\u001b[0;31m---------------------------------------------------------------------------\u001b[0m",
      "\u001b[0;31mConnectionError\u001b[0m                           Traceback (most recent call last)",
      "Cell \u001b[0;32mIn[10], line 1\u001b[0m\n\u001b[0;32m----> 1\u001b[0m \u001b[38;5;28;01mif\u001b[39;00m \u001b[38;5;129;01mnot\u001b[39;00m \u001b[43mes_client\u001b[49m\u001b[38;5;241;43m.\u001b[39;49m\u001b[43mindices\u001b[49m\u001b[38;5;241;43m.\u001b[39;49m\u001b[43mexists\u001b[49m\u001b[43m(\u001b[49m\u001b[43mindex\u001b[49m\u001b[38;5;241;43m=\u001b[39;49m\u001b[43mindex_name\u001b[49m\u001b[43m)\u001b[49m:\n\u001b[1;32m      2\u001b[0m     \u001b[38;5;28mprint\u001b[39m(\u001b[38;5;124m'\u001b[39m\u001b[38;5;124mcreating index\u001b[39m\u001b[38;5;124m'\u001b[39m)\n\u001b[1;32m      3\u001b[0m     es_client\u001b[38;5;241m.\u001b[39mindices\u001b[38;5;241m.\u001b[39mcreate(index\u001b[38;5;241m=\u001b[39mindex_name, body\u001b[38;5;241m=\u001b[39mindex_settings)\n",
      "File \u001b[0;32m/usr/local/python/3.12.1/lib/python3.12/site-packages/elasticsearch/_sync/client/utils.py:446\u001b[0m, in \u001b[0;36m_rewrite_parameters.<locals>.wrapper.<locals>.wrapped\u001b[0;34m(*args, **kwargs)\u001b[0m\n\u001b[1;32m    443\u001b[0m         \u001b[38;5;28;01mexcept\u001b[39;00m \u001b[38;5;167;01mKeyError\u001b[39;00m:\n\u001b[1;32m    444\u001b[0m             \u001b[38;5;28;01mpass\u001b[39;00m\n\u001b[0;32m--> 446\u001b[0m \u001b[38;5;28;01mreturn\u001b[39;00m \u001b[43mapi\u001b[49m\u001b[43m(\u001b[49m\u001b[38;5;241;43m*\u001b[39;49m\u001b[43margs\u001b[49m\u001b[43m,\u001b[49m\u001b[43m \u001b[49m\u001b[38;5;241;43m*\u001b[39;49m\u001b[38;5;241;43m*\u001b[39;49m\u001b[43mkwargs\u001b[49m\u001b[43m)\u001b[49m\n",
      "File \u001b[0;32m/usr/local/python/3.12.1/lib/python3.12/site-packages/elasticsearch/_sync/client/indices.py:1227\u001b[0m, in \u001b[0;36mIndicesClient.exists\u001b[0;34m(self, index, allow_no_indices, error_trace, expand_wildcards, filter_path, flat_settings, human, ignore_unavailable, include_defaults, local, pretty)\u001b[0m\n\u001b[1;32m   1225\u001b[0m     __query[\u001b[38;5;124m\"\u001b[39m\u001b[38;5;124mpretty\u001b[39m\u001b[38;5;124m\"\u001b[39m] \u001b[38;5;241m=\u001b[39m pretty\n\u001b[1;32m   1226\u001b[0m __headers \u001b[38;5;241m=\u001b[39m {\u001b[38;5;124m\"\u001b[39m\u001b[38;5;124maccept\u001b[39m\u001b[38;5;124m\"\u001b[39m: \u001b[38;5;124m\"\u001b[39m\u001b[38;5;124mapplication/json\u001b[39m\u001b[38;5;124m\"\u001b[39m}\n\u001b[0;32m-> 1227\u001b[0m \u001b[38;5;28;01mreturn\u001b[39;00m \u001b[38;5;28;43mself\u001b[39;49m\u001b[38;5;241;43m.\u001b[39;49m\u001b[43mperform_request\u001b[49m\u001b[43m(\u001b[49m\u001b[43m  \u001b[49m\u001b[38;5;66;43;03m# type: ignore[return-value]\u001b[39;49;00m\n\u001b[1;32m   1228\u001b[0m \u001b[43m    \u001b[49m\u001b[38;5;124;43m\"\u001b[39;49m\u001b[38;5;124;43mHEAD\u001b[39;49m\u001b[38;5;124;43m\"\u001b[39;49m\u001b[43m,\u001b[49m\n\u001b[1;32m   1229\u001b[0m \u001b[43m    \u001b[49m\u001b[43m__path\u001b[49m\u001b[43m,\u001b[49m\n\u001b[1;32m   1230\u001b[0m \u001b[43m    \u001b[49m\u001b[43mparams\u001b[49m\u001b[38;5;241;43m=\u001b[39;49m\u001b[43m__query\u001b[49m\u001b[43m,\u001b[49m\n\u001b[1;32m   1231\u001b[0m \u001b[43m    \u001b[49m\u001b[43mheaders\u001b[49m\u001b[38;5;241;43m=\u001b[39;49m\u001b[43m__headers\u001b[49m\u001b[43m,\u001b[49m\n\u001b[1;32m   1232\u001b[0m \u001b[43m    \u001b[49m\u001b[43mendpoint_id\u001b[49m\u001b[38;5;241;43m=\u001b[39;49m\u001b[38;5;124;43m\"\u001b[39;49m\u001b[38;5;124;43mindices.exists\u001b[39;49m\u001b[38;5;124;43m\"\u001b[39;49m\u001b[43m,\u001b[49m\n\u001b[1;32m   1233\u001b[0m \u001b[43m    \u001b[49m\u001b[43mpath_parts\u001b[49m\u001b[38;5;241;43m=\u001b[39;49m\u001b[43m__path_parts\u001b[49m\u001b[43m,\u001b[49m\n\u001b[1;32m   1234\u001b[0m \u001b[43m\u001b[49m\u001b[43m)\u001b[49m\n",
      "File \u001b[0;32m/usr/local/python/3.12.1/lib/python3.12/site-packages/elasticsearch/_sync/client/_base.py:423\u001b[0m, in \u001b[0;36mNamespacedClient.perform_request\u001b[0;34m(self, method, path, params, headers, body, endpoint_id, path_parts)\u001b[0m\n\u001b[1;32m    410\u001b[0m \u001b[38;5;28;01mdef\u001b[39;00m \u001b[38;5;21mperform_request\u001b[39m(\n\u001b[1;32m    411\u001b[0m     \u001b[38;5;28mself\u001b[39m,\n\u001b[1;32m    412\u001b[0m     method: \u001b[38;5;28mstr\u001b[39m,\n\u001b[0;32m   (...)\u001b[0m\n\u001b[1;32m    421\u001b[0m     \u001b[38;5;66;03m# Use the internal clients .perform_request() implementation\u001b[39;00m\n\u001b[1;32m    422\u001b[0m     \u001b[38;5;66;03m# so we take advantage of their transport options.\u001b[39;00m\n\u001b[0;32m--> 423\u001b[0m     \u001b[38;5;28;01mreturn\u001b[39;00m \u001b[38;5;28;43mself\u001b[39;49m\u001b[38;5;241;43m.\u001b[39;49m\u001b[43m_client\u001b[49m\u001b[38;5;241;43m.\u001b[39;49m\u001b[43mperform_request\u001b[49m\u001b[43m(\u001b[49m\n\u001b[1;32m    424\u001b[0m \u001b[43m        \u001b[49m\u001b[43mmethod\u001b[49m\u001b[43m,\u001b[49m\n\u001b[1;32m    425\u001b[0m \u001b[43m        \u001b[49m\u001b[43mpath\u001b[49m\u001b[43m,\u001b[49m\n\u001b[1;32m    426\u001b[0m \u001b[43m        \u001b[49m\u001b[43mparams\u001b[49m\u001b[38;5;241;43m=\u001b[39;49m\u001b[43mparams\u001b[49m\u001b[43m,\u001b[49m\n\u001b[1;32m    427\u001b[0m \u001b[43m        \u001b[49m\u001b[43mheaders\u001b[49m\u001b[38;5;241;43m=\u001b[39;49m\u001b[43mheaders\u001b[49m\u001b[43m,\u001b[49m\n\u001b[1;32m    428\u001b[0m \u001b[43m        \u001b[49m\u001b[43mbody\u001b[49m\u001b[38;5;241;43m=\u001b[39;49m\u001b[43mbody\u001b[49m\u001b[43m,\u001b[49m\n\u001b[1;32m    429\u001b[0m \u001b[43m        \u001b[49m\u001b[43mendpoint_id\u001b[49m\u001b[38;5;241;43m=\u001b[39;49m\u001b[43mendpoint_id\u001b[49m\u001b[43m,\u001b[49m\n\u001b[1;32m    430\u001b[0m \u001b[43m        \u001b[49m\u001b[43mpath_parts\u001b[49m\u001b[38;5;241;43m=\u001b[39;49m\u001b[43mpath_parts\u001b[49m\u001b[43m,\u001b[49m\n\u001b[1;32m    431\u001b[0m \u001b[43m    \u001b[49m\u001b[43m)\u001b[49m\n",
      "File \u001b[0;32m/usr/local/python/3.12.1/lib/python3.12/site-packages/elasticsearch/_sync/client/_base.py:271\u001b[0m, in \u001b[0;36mBaseClient.perform_request\u001b[0;34m(self, method, path, params, headers, body, endpoint_id, path_parts)\u001b[0m\n\u001b[1;32m    255\u001b[0m \u001b[38;5;28;01mdef\u001b[39;00m \u001b[38;5;21mperform_request\u001b[39m(\n\u001b[1;32m    256\u001b[0m     \u001b[38;5;28mself\u001b[39m,\n\u001b[1;32m    257\u001b[0m     method: \u001b[38;5;28mstr\u001b[39m,\n\u001b[0;32m   (...)\u001b[0m\n\u001b[1;32m    264\u001b[0m     path_parts: Optional[Mapping[\u001b[38;5;28mstr\u001b[39m, Any]] \u001b[38;5;241m=\u001b[39m \u001b[38;5;28;01mNone\u001b[39;00m,\n\u001b[1;32m    265\u001b[0m ) \u001b[38;5;241m-\u001b[39m\u001b[38;5;241m>\u001b[39m ApiResponse[Any]:\n\u001b[1;32m    266\u001b[0m     \u001b[38;5;28;01mwith\u001b[39;00m \u001b[38;5;28mself\u001b[39m\u001b[38;5;241m.\u001b[39m_otel\u001b[38;5;241m.\u001b[39mspan(\n\u001b[1;32m    267\u001b[0m         method,\n\u001b[1;32m    268\u001b[0m         endpoint_id\u001b[38;5;241m=\u001b[39mendpoint_id,\n\u001b[1;32m    269\u001b[0m         path_parts\u001b[38;5;241m=\u001b[39mpath_parts \u001b[38;5;129;01mor\u001b[39;00m {},\n\u001b[1;32m    270\u001b[0m     ) \u001b[38;5;28;01mas\u001b[39;00m otel_span:\n\u001b[0;32m--> 271\u001b[0m         response \u001b[38;5;241m=\u001b[39m \u001b[38;5;28;43mself\u001b[39;49m\u001b[38;5;241;43m.\u001b[39;49m\u001b[43m_perform_request\u001b[49m\u001b[43m(\u001b[49m\n\u001b[1;32m    272\u001b[0m \u001b[43m            \u001b[49m\u001b[43mmethod\u001b[49m\u001b[43m,\u001b[49m\n\u001b[1;32m    273\u001b[0m \u001b[43m            \u001b[49m\u001b[43mpath\u001b[49m\u001b[43m,\u001b[49m\n\u001b[1;32m    274\u001b[0m \u001b[43m            \u001b[49m\u001b[43mparams\u001b[49m\u001b[38;5;241;43m=\u001b[39;49m\u001b[43mparams\u001b[49m\u001b[43m,\u001b[49m\n\u001b[1;32m    275\u001b[0m \u001b[43m            \u001b[49m\u001b[43mheaders\u001b[49m\u001b[38;5;241;43m=\u001b[39;49m\u001b[43mheaders\u001b[49m\u001b[43m,\u001b[49m\n\u001b[1;32m    276\u001b[0m \u001b[43m            \u001b[49m\u001b[43mbody\u001b[49m\u001b[38;5;241;43m=\u001b[39;49m\u001b[43mbody\u001b[49m\u001b[43m,\u001b[49m\n\u001b[1;32m    277\u001b[0m \u001b[43m            \u001b[49m\u001b[43motel_span\u001b[49m\u001b[38;5;241;43m=\u001b[39;49m\u001b[43motel_span\u001b[49m\u001b[43m,\u001b[49m\n\u001b[1;32m    278\u001b[0m \u001b[43m        \u001b[49m\u001b[43m)\u001b[49m\n\u001b[1;32m    279\u001b[0m         otel_span\u001b[38;5;241m.\u001b[39mset_elastic_cloud_metadata(response\u001b[38;5;241m.\u001b[39mmeta\u001b[38;5;241m.\u001b[39mheaders)\n\u001b[1;32m    280\u001b[0m         \u001b[38;5;28;01mreturn\u001b[39;00m response\n",
      "File \u001b[0;32m/usr/local/python/3.12.1/lib/python3.12/site-packages/elasticsearch/_sync/client/_base.py:316\u001b[0m, in \u001b[0;36mBaseClient._perform_request\u001b[0;34m(self, method, path, params, headers, body, otel_span)\u001b[0m\n\u001b[1;32m    313\u001b[0m \u001b[38;5;28;01melse\u001b[39;00m:\n\u001b[1;32m    314\u001b[0m     target \u001b[38;5;241m=\u001b[39m path\n\u001b[0;32m--> 316\u001b[0m meta, resp_body \u001b[38;5;241m=\u001b[39m \u001b[38;5;28;43mself\u001b[39;49m\u001b[38;5;241;43m.\u001b[39;49m\u001b[43mtransport\u001b[49m\u001b[38;5;241;43m.\u001b[39;49m\u001b[43mperform_request\u001b[49m\u001b[43m(\u001b[49m\n\u001b[1;32m    317\u001b[0m \u001b[43m    \u001b[49m\u001b[43mmethod\u001b[49m\u001b[43m,\u001b[49m\n\u001b[1;32m    318\u001b[0m \u001b[43m    \u001b[49m\u001b[43mtarget\u001b[49m\u001b[43m,\u001b[49m\n\u001b[1;32m    319\u001b[0m \u001b[43m    \u001b[49m\u001b[43mheaders\u001b[49m\u001b[38;5;241;43m=\u001b[39;49m\u001b[43mrequest_headers\u001b[49m\u001b[43m,\u001b[49m\n\u001b[1;32m    320\u001b[0m \u001b[43m    \u001b[49m\u001b[43mbody\u001b[49m\u001b[38;5;241;43m=\u001b[39;49m\u001b[43mbody\u001b[49m\u001b[43m,\u001b[49m\n\u001b[1;32m    321\u001b[0m \u001b[43m    \u001b[49m\u001b[43mrequest_timeout\u001b[49m\u001b[38;5;241;43m=\u001b[39;49m\u001b[38;5;28;43mself\u001b[39;49m\u001b[38;5;241;43m.\u001b[39;49m\u001b[43m_request_timeout\u001b[49m\u001b[43m,\u001b[49m\n\u001b[1;32m    322\u001b[0m \u001b[43m    \u001b[49m\u001b[43mmax_retries\u001b[49m\u001b[38;5;241;43m=\u001b[39;49m\u001b[38;5;28;43mself\u001b[39;49m\u001b[38;5;241;43m.\u001b[39;49m\u001b[43m_max_retries\u001b[49m\u001b[43m,\u001b[49m\n\u001b[1;32m    323\u001b[0m \u001b[43m    \u001b[49m\u001b[43mretry_on_status\u001b[49m\u001b[38;5;241;43m=\u001b[39;49m\u001b[38;5;28;43mself\u001b[39;49m\u001b[38;5;241;43m.\u001b[39;49m\u001b[43m_retry_on_status\u001b[49m\u001b[43m,\u001b[49m\n\u001b[1;32m    324\u001b[0m \u001b[43m    \u001b[49m\u001b[43mretry_on_timeout\u001b[49m\u001b[38;5;241;43m=\u001b[39;49m\u001b[38;5;28;43mself\u001b[39;49m\u001b[38;5;241;43m.\u001b[39;49m\u001b[43m_retry_on_timeout\u001b[49m\u001b[43m,\u001b[49m\n\u001b[1;32m    325\u001b[0m \u001b[43m    \u001b[49m\u001b[43mclient_meta\u001b[49m\u001b[38;5;241;43m=\u001b[39;49m\u001b[38;5;28;43mself\u001b[39;49m\u001b[38;5;241;43m.\u001b[39;49m\u001b[43m_client_meta\u001b[49m\u001b[43m,\u001b[49m\n\u001b[1;32m    326\u001b[0m \u001b[43m    \u001b[49m\u001b[43motel_span\u001b[49m\u001b[38;5;241;43m=\u001b[39;49m\u001b[43motel_span\u001b[49m\u001b[43m,\u001b[49m\n\u001b[1;32m    327\u001b[0m \u001b[43m\u001b[49m\u001b[43m)\u001b[49m\n\u001b[1;32m    329\u001b[0m \u001b[38;5;66;03m# HEAD with a 404 is returned as a normal response\u001b[39;00m\n\u001b[1;32m    330\u001b[0m \u001b[38;5;66;03m# since this is used as an 'exists' functionality.\u001b[39;00m\n\u001b[1;32m    331\u001b[0m \u001b[38;5;28;01mif\u001b[39;00m \u001b[38;5;129;01mnot\u001b[39;00m (method \u001b[38;5;241m==\u001b[39m \u001b[38;5;124m\"\u001b[39m\u001b[38;5;124mHEAD\u001b[39m\u001b[38;5;124m\"\u001b[39m \u001b[38;5;129;01mand\u001b[39;00m meta\u001b[38;5;241m.\u001b[39mstatus \u001b[38;5;241m==\u001b[39m \u001b[38;5;241m404\u001b[39m) \u001b[38;5;129;01mand\u001b[39;00m (\n\u001b[1;32m    332\u001b[0m     \u001b[38;5;129;01mnot\u001b[39;00m \u001b[38;5;241m200\u001b[39m \u001b[38;5;241m<\u001b[39m\u001b[38;5;241m=\u001b[39m meta\u001b[38;5;241m.\u001b[39mstatus \u001b[38;5;241m<\u001b[39m \u001b[38;5;241m299\u001b[39m\n\u001b[1;32m    333\u001b[0m     \u001b[38;5;129;01mand\u001b[39;00m (\n\u001b[0;32m   (...)\u001b[0m\n\u001b[1;32m    337\u001b[0m     )\n\u001b[1;32m    338\u001b[0m ):\n",
      "File \u001b[0;32m/usr/local/python/3.12.1/lib/python3.12/site-packages/elastic_transport/_transport.py:342\u001b[0m, in \u001b[0;36mTransport.perform_request\u001b[0;34m(self, method, target, body, headers, max_retries, retry_on_status, retry_on_timeout, request_timeout, client_meta, otel_span)\u001b[0m\n\u001b[1;32m    340\u001b[0m \u001b[38;5;28;01mtry\u001b[39;00m:\n\u001b[1;32m    341\u001b[0m     otel_span\u001b[38;5;241m.\u001b[39mset_node_metadata(node\u001b[38;5;241m.\u001b[39mhost, node\u001b[38;5;241m.\u001b[39mport, node\u001b[38;5;241m.\u001b[39mbase_url, target)\n\u001b[0;32m--> 342\u001b[0m     resp \u001b[38;5;241m=\u001b[39m \u001b[43mnode\u001b[49m\u001b[38;5;241;43m.\u001b[39;49m\u001b[43mperform_request\u001b[49m\u001b[43m(\u001b[49m\n\u001b[1;32m    343\u001b[0m \u001b[43m        \u001b[49m\u001b[43mmethod\u001b[49m\u001b[43m,\u001b[49m\n\u001b[1;32m    344\u001b[0m \u001b[43m        \u001b[49m\u001b[43mtarget\u001b[49m\u001b[43m,\u001b[49m\n\u001b[1;32m    345\u001b[0m \u001b[43m        \u001b[49m\u001b[43mbody\u001b[49m\u001b[38;5;241;43m=\u001b[39;49m\u001b[43mrequest_body\u001b[49m\u001b[43m,\u001b[49m\n\u001b[1;32m    346\u001b[0m \u001b[43m        \u001b[49m\u001b[43mheaders\u001b[49m\u001b[38;5;241;43m=\u001b[39;49m\u001b[43mrequest_headers\u001b[49m\u001b[43m,\u001b[49m\n\u001b[1;32m    347\u001b[0m \u001b[43m        \u001b[49m\u001b[43mrequest_timeout\u001b[49m\u001b[38;5;241;43m=\u001b[39;49m\u001b[43mrequest_timeout\u001b[49m\u001b[43m,\u001b[49m\n\u001b[1;32m    348\u001b[0m \u001b[43m    \u001b[49m\u001b[43m)\u001b[49m\n\u001b[1;32m    349\u001b[0m     _logger\u001b[38;5;241m.\u001b[39minfo(\n\u001b[1;32m    350\u001b[0m         \u001b[38;5;124m\"\u001b[39m\u001b[38;5;132;01m%s\u001b[39;00m\u001b[38;5;124m \u001b[39m\u001b[38;5;132;01m%s\u001b[39;00m\u001b[38;5;132;01m%s\u001b[39;00m\u001b[38;5;124m [status:\u001b[39m\u001b[38;5;132;01m%s\u001b[39;00m\u001b[38;5;124m duration:\u001b[39m\u001b[38;5;132;01m%.3f\u001b[39;00m\u001b[38;5;124ms]\u001b[39m\u001b[38;5;124m\"\u001b[39m\n\u001b[1;32m    351\u001b[0m         \u001b[38;5;241m%\u001b[39m (\n\u001b[0;32m   (...)\u001b[0m\n\u001b[1;32m    357\u001b[0m         )\n\u001b[1;32m    358\u001b[0m     )\n\u001b[1;32m    360\u001b[0m     \u001b[38;5;28;01mif\u001b[39;00m method \u001b[38;5;241m!=\u001b[39m \u001b[38;5;124m\"\u001b[39m\u001b[38;5;124mHEAD\u001b[39m\u001b[38;5;124m\"\u001b[39m:\n",
      "File \u001b[0;32m/usr/local/python/3.12.1/lib/python3.12/site-packages/elastic_transport/_node/_http_urllib3.py:202\u001b[0m, in \u001b[0;36mUrllib3HttpNode.perform_request\u001b[0;34m(self, method, target, body, headers, request_timeout)\u001b[0m\n\u001b[1;32m    194\u001b[0m         err \u001b[38;5;241m=\u001b[39m \u001b[38;5;167;01mConnectionError\u001b[39;00m(\u001b[38;5;28mstr\u001b[39m(e), errors\u001b[38;5;241m=\u001b[39m(e,))\n\u001b[1;32m    195\u001b[0m     \u001b[38;5;28mself\u001b[39m\u001b[38;5;241m.\u001b[39m_log_request(\n\u001b[1;32m    196\u001b[0m         method\u001b[38;5;241m=\u001b[39mmethod,\n\u001b[1;32m    197\u001b[0m         target\u001b[38;5;241m=\u001b[39mtarget,\n\u001b[0;32m   (...)\u001b[0m\n\u001b[1;32m    200\u001b[0m         exception\u001b[38;5;241m=\u001b[39merr,\n\u001b[1;32m    201\u001b[0m     )\n\u001b[0;32m--> 202\u001b[0m     \u001b[38;5;28;01mraise\u001b[39;00m err \u001b[38;5;28;01mfrom\u001b[39;00m \u001b[38;5;28;01mNone\u001b[39;00m\n\u001b[1;32m    204\u001b[0m meta \u001b[38;5;241m=\u001b[39m ApiResponseMeta(\n\u001b[1;32m    205\u001b[0m     node\u001b[38;5;241m=\u001b[39m\u001b[38;5;28mself\u001b[39m\u001b[38;5;241m.\u001b[39mconfig,\n\u001b[1;32m    206\u001b[0m     duration\u001b[38;5;241m=\u001b[39mduration,\n\u001b[0;32m   (...)\u001b[0m\n\u001b[1;32m    209\u001b[0m     headers\u001b[38;5;241m=\u001b[39mresponse_headers,\n\u001b[1;32m    210\u001b[0m )\n\u001b[1;32m    211\u001b[0m \u001b[38;5;28mself\u001b[39m\u001b[38;5;241m.\u001b[39m_log_request(\n\u001b[1;32m    212\u001b[0m     method\u001b[38;5;241m=\u001b[39mmethod,\n\u001b[1;32m    213\u001b[0m     target\u001b[38;5;241m=\u001b[39mtarget,\n\u001b[0;32m   (...)\u001b[0m\n\u001b[1;32m    217\u001b[0m     response\u001b[38;5;241m=\u001b[39mdata,\n\u001b[1;32m    218\u001b[0m )\n",
      "\u001b[0;31mConnectionError\u001b[0m: Connection error caused by: ConnectionError(Connection error caused by: NewConnectionError(<urllib3.connection.HTTPConnection object at 0x725076a486b0>: Failed to establish a new connection: [Errno 111] Connection refused))"
     ]
    }
   ],
   "source": [
    "if not es_client.indices.exists(index=index_name):\n",
    "    print('creating index')\n",
    "    es_client.indices.create(index=index_name, body=index_settings)\n",
    "    print('index created')\n",
    "    print(es_client.indices.get_settings(index=index_name))"
   ]
  },
  {
   "cell_type": "code",
   "execution_count": 46,
   "id": "73419cb6-e6dc-4abc-83be-7126ab9e790e",
   "metadata": {},
   "outputs": [],
   "source": [
    "ground_truth = cats"
   ]
  },
  {
   "cell_type": "code",
   "execution_count": 47,
   "id": "54dafc74-256c-42d1-9817-ae509aafc04a",
   "metadata": {},
   "outputs": [
    {
     "data": {
      "text/plain": [
       "{'id': 54, 'description': 'SMASH BURGUER', 'category': 'RESTAURANT'}"
      ]
     },
     "execution_count": 47,
     "metadata": {},
     "output_type": "execute_result"
    }
   ],
   "source": [
    "ground_truth[0]"
   ]
  },
  {
   "cell_type": "code",
   "execution_count": 48,
   "id": "226881d6-c3ad-436b-92d9-376c3addd354",
   "metadata": {},
   "outputs": [
    {
     "data": {
      "application/vnd.jupyter.widget-view+json": {
       "model_id": "fc44b89eca2c443caa358b5b173bbc4e",
       "version_major": 2,
       "version_minor": 0
      },
      "text/plain": [
       "  0%|          | 0/42 [00:00<?, ?it/s]"
      ]
     },
     "metadata": {},
     "output_type": "display_data"
    }
   ],
   "source": [
    "# create embeddings\n",
    "for cat in tqdm(ground_truth):\n",
    "    description = cat['description']\n",
    "    cat['description_vector'] = embedding_model.encode(description)"
   ]
  },
  {
   "cell_type": "code",
   "execution_count": 53,
   "id": "7f876c67-55c4-44a0-962c-15c24cf768d2",
   "metadata": {},
   "outputs": [
    {
     "data": {
      "text/plain": [
       "{'id': 54,\n",
       " 'description': 'SMASH BURGUER',\n",
       " 'category': 'RESTAURANT',\n",
       " 'description_vector': array([ 1.34226568e-02,  7.57203437e-04, -2.51709353e-02,  5.45753399e-03,\n",
       "        -8.82995054e-02,  1.19551226e-01,  5.65344505e-02,  5.12149511e-03,\n",
       "         3.80637147e-03, -1.28104994e-02, -3.93640175e-02, -9.94731709e-02,\n",
       "        -3.17534688e-03,  1.94332679e-03,  9.28765722e-03,  6.98426664e-02,\n",
       "        -2.09480844e-04,  3.35071459e-02, -2.14301180e-02, -9.20342281e-03,\n",
       "        -5.92158958e-02,  9.19533428e-03,  3.98660973e-02,  7.58114755e-02,\n",
       "        -2.34276466e-02, -1.92669481e-02,  2.61279033e-03,  3.45828459e-02,\n",
       "        -3.10578290e-02, -1.00138925e-01,  4.13720869e-02, -4.74197045e-02,\n",
       "         5.84138557e-02, -5.81344124e-03, -4.35380712e-02, -3.87630500e-02,\n",
       "         1.65780149e-02,  1.79668758e-02, -9.83983185e-03,  4.69177403e-02,\n",
       "        -5.45436330e-02, -3.25366370e-02,  3.12766968e-03,  7.36454828e-03,\n",
       "         3.35040912e-02, -4.58420403e-02, -2.65942067e-02,  6.64915293e-02,\n",
       "         3.80952321e-02, -9.35123608e-05, -3.17086354e-02, -2.65913364e-02,\n",
       "         3.58484909e-02,  3.69375834e-04,  1.45819277e-01,  6.41364008e-02,\n",
       "         1.68381315e-02, -3.64818983e-02,  1.04399264e-01,  6.12854809e-02,\n",
       "         4.07196432e-02,  3.77489887e-02, -3.90046206e-03, -5.29940128e-02,\n",
       "        -1.58491135e-02, -7.84392282e-02,  4.33638273e-03,  9.74683315e-02,\n",
       "         7.05957599e-03,  1.16790570e-01,  4.26662527e-02, -9.10720900e-02,\n",
       "        -2.69421395e-02, -8.30372516e-03,  4.97477837e-02, -5.67391366e-02,\n",
       "        -7.20438808e-02, -5.95655888e-02,  5.88147044e-02,  1.37238652e-02,\n",
       "        -7.20216110e-02, -1.08266152e-01, -1.29725546e-01, -2.40965653e-03,\n",
       "        -1.40615758e-02,  4.73984443e-02,  2.42242198e-02,  7.03796670e-02,\n",
       "        -8.20392929e-03,  1.33086955e-02,  2.93873958e-02, -6.88716164e-03,\n",
       "         1.48921134e-02,  3.37711349e-02, -3.23690921e-02,  1.60894841e-02,\n",
       "        -7.82269577e-04, -6.38037995e-02,  4.20191772e-02,  1.16786465e-01,\n",
       "        -5.77092879e-02,  6.02475703e-02,  3.35186943e-02, -5.54106124e-02,\n",
       "        -2.10952270e-03, -6.32253364e-02,  3.02953590e-02,  8.68851542e-02,\n",
       "         5.34521136e-03, -7.64482692e-02,  2.45228317e-02, -1.93863437e-02,\n",
       "        -2.82190070e-02,  3.03705819e-02,  9.53770522e-03,  2.52014585e-02,\n",
       "         2.44423859e-02, -5.62954322e-02, -6.15601391e-02, -4.83248867e-02,\n",
       "         8.02975446e-02,  4.20833938e-02, -7.39693493e-02,  4.65997942e-02,\n",
       "        -4.29432690e-02, -2.24865638e-02, -3.88427228e-02, -1.92485191e-34,\n",
       "         1.04615927e-01, -3.14348973e-02, -2.07664240e-02,  5.03510758e-02,\n",
       "         1.75067503e-02,  3.28064784e-02, -3.72512601e-02,  1.71006415e-02,\n",
       "        -1.93833522e-02,  3.88014317e-02, -6.38668425e-04, -3.96229699e-02,\n",
       "        -1.64672583e-02, -6.67709634e-02,  9.24255997e-02, -1.79330409e-02,\n",
       "        -7.75571689e-02,  6.42203689e-02, -3.44180577e-02,  9.64276958e-04,\n",
       "        -2.52673011e-02,  9.45477784e-02, -5.77126257e-02,  9.99903027e-03,\n",
       "         3.67275462e-03, -9.89110675e-04,  3.82307172e-02, -3.16912457e-02,\n",
       "         6.96487650e-02,  5.24466261e-02,  8.79323334e-02, -7.65772630e-03,\n",
       "        -3.73946093e-02, -3.35002430e-02,  9.11654730e-04, -1.26485735e-01,\n",
       "        -7.64128193e-02, -8.95485431e-02, -1.05706580e-01, -4.06282842e-02,\n",
       "         2.01952420e-02, -1.20139876e-02, -1.41078427e-01,  4.74559590e-02,\n",
       "         2.55640391e-02, -5.24346791e-02,  2.21760124e-02,  8.42806920e-02,\n",
       "         6.57933503e-02, -1.53812789e-03,  6.82051182e-02,  4.20368873e-02,\n",
       "         1.15909148e-02,  5.04416786e-02, -3.35444026e-02,  6.32207841e-02,\n",
       "         8.88464972e-02, -2.16520652e-02,  3.64391282e-02,  8.23612660e-02,\n",
       "         5.42975329e-02,  4.55638170e-02,  5.66108935e-02,  1.00358007e-02,\n",
       "        -3.35406177e-02, -4.04942259e-02,  2.65499521e-02,  4.96147349e-02,\n",
       "        -4.02998663e-02, -5.39329574e-02,  2.76430231e-02, -1.78122353e-02,\n",
       "        -2.99041942e-02,  1.80850718e-02, -8.24151374e-03, -2.55982876e-02,\n",
       "         3.23133031e-03,  8.08700770e-02, -2.40620654e-02, -8.06293339e-02,\n",
       "        -6.92680255e-02, -2.50195479e-03,  3.33951898e-02, -5.86470170e-03,\n",
       "         1.13090025e-02,  4.82543893e-02,  6.11559721e-03, -7.44598657e-02,\n",
       "        -2.79121045e-02,  3.51032056e-02, -1.23205520e-01, -2.73544099e-02,\n",
       "         1.87694710e-02, -7.67552182e-02, -3.55013050e-02, -4.08162174e-35,\n",
       "         1.82325568e-03, -6.96142390e-02, -2.03248002e-02,  2.64677126e-02,\n",
       "         2.90906411e-02, -1.66252833e-02, -7.14600906e-02,  5.85846938e-02,\n",
       "        -3.69398668e-02, -2.00850945e-02,  3.12670097e-02, -5.72697667e-04,\n",
       "         4.83859368e-02, -3.01763713e-02,  6.80503547e-02,  2.45950408e-02,\n",
       "         8.22166651e-02, -1.43178180e-02, -9.19211507e-02,  2.65676212e-02,\n",
       "        -1.98351871e-02, -9.18916538e-02,  9.02020708e-02, -5.51124290e-03,\n",
       "         1.65356789e-02,  6.55273199e-02,  7.61941820e-02,  8.59905127e-03,\n",
       "        -1.75689831e-02,  3.51514034e-02,  7.57455081e-02, -3.53527293e-02,\n",
       "        -4.51762676e-02,  1.53526552e-02, -4.63511012e-02,  2.92995870e-02,\n",
       "         1.76313277e-02,  7.73797855e-02,  7.28144217e-03, -3.62244956e-02,\n",
       "         1.31141888e-02,  5.98089360e-02, -9.99493077e-02,  5.83114251e-02,\n",
       "        -1.06934207e-02,  7.79114803e-03, -9.32936277e-03,  2.42510904e-02,\n",
       "         5.31728715e-02,  3.63438651e-02, -2.68032830e-02, -1.94460119e-03,\n",
       "         4.18127365e-02, -3.04110497e-02, -6.64244369e-02, -1.74687840e-02,\n",
       "         2.64732074e-03, -1.12909712e-01, -3.52668506e-03, -2.91192085e-02,\n",
       "        -7.80010000e-02,  4.50838953e-02,  1.44209247e-03,  6.85715228e-02,\n",
       "         8.20360205e-04, -8.94886255e-03, -1.06523789e-01,  3.95780765e-02,\n",
       "        -9.42122843e-03, -9.80827287e-02, -4.66821939e-02, -5.03550284e-03,\n",
       "         8.11336283e-03,  9.72852111e-02, -1.25174806e-01,  3.26765627e-02,\n",
       "        -3.33584920e-02, -3.79108563e-02,  4.48797084e-03,  8.22836459e-02,\n",
       "         1.23642618e-02,  1.98449139e-02, -2.18461175e-02,  5.87332025e-02,\n",
       "        -3.32674198e-02, -7.06177428e-02,  9.11961496e-03,  4.70622554e-02,\n",
       "         3.69584262e-02, -2.10948233e-02, -1.13754878e-02,  1.02424743e-02,\n",
       "         2.28404477e-02, -1.90978441e-02,  9.33281146e-03, -1.43750496e-08,\n",
       "        -1.67938694e-02,  6.23566359e-02, -5.46344556e-03,  1.20412745e-02,\n",
       "         1.06123555e-03, -8.42456357e-04, -1.22038834e-01, -4.31196280e-02,\n",
       "        -1.95981897e-02, -2.97532342e-02, -4.81175492e-03, -1.81015451e-02,\n",
       "        -3.00886538e-02,  5.65379970e-02, -1.79752577e-02,  1.42039992e-02,\n",
       "         2.65921596e-02, -8.71132463e-02, -2.25560106e-02,  1.99859310e-02,\n",
       "        -1.00877225e-01,  5.75563032e-03,  8.29379931e-02,  9.42041576e-02,\n",
       "        -4.36140671e-02,  2.16085203e-02, -7.04487860e-02,  2.29766201e-02,\n",
       "         9.80222076e-02,  6.00143056e-03,  1.15890183e-01,  7.05885515e-02,\n",
       "        -1.77522376e-02,  5.67098036e-02, -3.21891643e-02,  5.17173968e-02,\n",
       "        -4.15150449e-02,  6.24075253e-03, -5.23066521e-02,  9.66815427e-02,\n",
       "         1.59494951e-03, -3.72334830e-02,  2.08675582e-02, -5.16491802e-03,\n",
       "        -8.54269937e-02, -7.01329261e-02, -6.87965453e-02, -1.07390201e-02,\n",
       "        -6.70770742e-03, -1.46715660e-02,  3.41951326e-02,  3.37154837e-03,\n",
       "        -2.23086588e-03,  4.41526584e-02,  4.34611589e-02,  1.11067854e-01,\n",
       "        -5.40995188e-02, -3.31233926e-02,  7.49603799e-03,  3.53120789e-02,\n",
       "         6.86571151e-02, -4.83138785e-02,  6.61924705e-02,  5.81779517e-02],\n",
       "       dtype=float32)}"
      ]
     },
     "execution_count": 53,
     "metadata": {},
     "output_type": "execute_result"
    }
   ],
   "source": [
    "ground_truth[0]"
   ]
  },
  {
   "cell_type": "code",
   "execution_count": 50,
   "id": "49da42b5-d3e1-42cb-92c1-44d81428e5db",
   "metadata": {},
   "outputs": [
    {
     "data": {
      "text/plain": [
       "384"
      ]
     },
     "execution_count": 50,
     "metadata": {},
     "output_type": "execute_result"
    }
   ],
   "source": [
    "len(ground_truth[0]['description_vector'])"
   ]
  },
  {
   "cell_type": "code",
   "execution_count": 61,
   "id": "76ce8d48-3969-4a62-b95c-aa961d40b2f9",
   "metadata": {},
   "outputs": [
    {
     "data": {
      "application/vnd.jupyter.widget-view+json": {
       "model_id": "34189b304c744eb391f91cc0dab947a9",
       "version_major": 2,
       "version_minor": 0
      },
      "text/plain": [
       "  0%|          | 0/42 [00:00<?, ?it/s]"
      ]
     },
     "metadata": {},
     "output_type": "display_data"
    }
   ],
   "source": [
    "for cat in tqdm(ground_truth):\n",
    "    es_client.index(index=index_name, document=cat)"
   ]
  },
  {
   "cell_type": "code",
   "execution_count": 66,
   "id": "42747029-61e1-4017-8a96-77f8b403730f",
   "metadata": {},
   "outputs": [],
   "source": [
    "def elastic_search_knn(field, vector):\n",
    "    knn = {\n",
    "        \"field\": field,\n",
    "        \"query_vector\": vector,\n",
    "        \"k\": 2,\n",
    "        \"num_candidates\": 10000,\n",
    "    }\n",
    "\n",
    "    search_query = {\n",
    "        \"knn\": knn,\n",
    "        \"_source\": [\"id\", \"description\", \"category\"]\n",
    "    }\n",
    "\n",
    "    es_results = es_client.search(\n",
    "        index=index_name,\n",
    "        body=search_query\n",
    "    )\n",
    "    \n",
    "    result_docs = []\n",
    "    print(es_results['hits']['hits'])\n",
    "    \n",
    "    for hit in es_results['hits']['hits']:\n",
    "        result_docs.append(hit['_source'])\n",
    "\n",
    "    return result_docs"
   ]
  },
  {
   "cell_type": "code",
   "execution_count": 67,
   "id": "366b23fc-8df8-443f-926f-94bac3171ac3",
   "metadata": {},
   "outputs": [
    {
     "name": "stdout",
     "output_type": "stream",
     "text": [
      "[{'_index': 'categories', '_id': 'XW9D1JEBfxhp_4C2fpH9', '_score': 0.91291916, '_source': {'description': 'LA SIRENA VENEZUELA MC', 'id': 60, 'category': 'SUPERMARKET'}}, {'_index': 'categories', '_id': 'fm9D1JEBfxhp_4C2gpG3', '_score': 0.91291916, '_source': {'description': 'LA SIRENA VENEZUELA MC', 'id': 84, 'category': 'SUPERMARKET'}}]\n"
     ]
    },
    {
     "data": {
      "text/plain": [
       "[{'description': 'LA SIRENA VENEZUELA MC',\n",
       "  'id': 60,\n",
       "  'category': 'SUPERMARKET'},\n",
       " {'description': 'LA SIRENA VENEZUELA MC',\n",
       "  'id': 84,\n",
       "  'category': 'SUPERMARKET'}]"
      ]
     },
     "execution_count": 67,
     "metadata": {},
     "output_type": "execute_result"
    }
   ],
   "source": [
    "elastic_search_knn('description_vector', v)"
   ]
  }
 ],
 "metadata": {
  "kernelspec": {
   "display_name": "Python 3 (ipykernel)",
   "language": "python",
   "name": "python3"
  },
  "language_info": {
   "codemirror_mode": {
    "name": "ipython",
    "version": 3
   },
   "file_extension": ".py",
   "mimetype": "text/x-python",
   "name": "python",
   "nbconvert_exporter": "python",
   "pygments_lexer": "ipython3",
   "version": "3.12.1"
  }
 },
 "nbformat": 4,
 "nbformat_minor": 5
}
