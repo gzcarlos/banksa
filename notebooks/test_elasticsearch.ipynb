{
 "cells": [
  {
   "cell_type": "code",
   "execution_count": 1,
   "id": "64753e2b-bb32-4db0-ab93-760a5c9da749",
   "metadata": {},
   "outputs": [
    {
     "name": "stderr",
     "output_type": "stream",
     "text": [
      "/usr/local/python/3.12.1/lib/python3.12/site-packages/sentence_transformers/cross_encoder/CrossEncoder.py:11: TqdmExperimentalWarning: Using `tqdm.autonotebook.tqdm` in notebook mode. Use `tqdm.tqdm` instead to force console mode (e.g. in jupyter console)\n",
      "  from tqdm.autonotebook import tqdm, trange\n"
     ]
    }
   ],
   "source": [
    "from sentence_transformers import SentenceTransformer\n",
    "from tqdm.auto import tqdm\n",
    "\n",
    "import psycopg2\n",
    "from psycopg2 import sql\n",
    "import pandas as pd\n",
    "\n"
   ]
  },
  {
   "cell_type": "code",
   "execution_count": 2,
   "id": "97e373f1-fbb6-4045-ad25-19cb74c922a7",
   "metadata": {},
   "outputs": [],
   "source": [
    "def get_db_connection():\n",
    "    return psycopg2.connect(\n",
    "        dbname=\"banksa\",\n",
    "        user=\"root\",\n",
    "        password=\"root\",\n",
    "        host=\"localhost\",\n",
    "        port=\"5432\"\n",
    "    )"
   ]
  },
  {
   "cell_type": "code",
   "execution_count": 3,
   "id": "c0d1a898-68d1-4e86-9d15-8339b0f95fd8",
   "metadata": {},
   "outputs": [],
   "source": [
    "def get_knowledge_base_not_indexed():\n",
    "    cur = None\n",
    "    conn = None\n",
    "    try:\n",
    "        conn = get_db_connection()\n",
    "        cur = conn.cursor()\n",
    "\n",
    "        query = sql.SQL(\"select * from v_knowledge_base where indexed = false\")\n",
    "        \n",
    "        cur.execute(query)\n",
    "\n",
    "        column_names = [desc[0] for desc in cur.description]\n",
    "        results = cur.fetchall()\n",
    "\n",
    "        df = pd.DataFrame(results, columns=column_names)\n",
    "\n",
    "        return df\n",
    "    except Exception as e:\n",
    "        print(f\"An error ocurred: {str(e)}\")\n",
    "        return pd.DataFrame()\n",
    "    finally:\n",
    "        if cur:\n",
    "            cur.close()\n",
    "        if conn:\n",
    "            conn.close()"
   ]
  },
  {
   "cell_type": "code",
   "execution_count": 4,
   "id": "adbcd15d-6c6d-4be6-be04-c91ec3de53b9",
   "metadata": {},
   "outputs": [],
   "source": [
    "df_knowledge_base = get_knowledge_base_not_indexed()"
   ]
  },
  {
   "cell_type": "code",
   "execution_count": 5,
   "id": "40cc1912-322f-4611-9070-372712bbaa8c",
   "metadata": {},
   "outputs": [
    {
     "data": {
      "text/html": [
       "<div>\n",
       "<style scoped>\n",
       "    .dataframe tbody tr th:only-of-type {\n",
       "        vertical-align: middle;\n",
       "    }\n",
       "\n",
       "    .dataframe tbody tr th {\n",
       "        vertical-align: top;\n",
       "    }\n",
       "\n",
       "    .dataframe thead th {\n",
       "        text-align: right;\n",
       "    }\n",
       "</style>\n",
       "<table border=\"1\" class=\"dataframe\">\n",
       "  <thead>\n",
       "    <tr style=\"text-align: right;\">\n",
       "      <th></th>\n",
       "      <th>id</th>\n",
       "      <th>description</th>\n",
       "      <th>category</th>\n",
       "    </tr>\n",
       "  </thead>\n",
       "  <tbody>\n",
       "  </tbody>\n",
       "</table>\n",
       "</div>"
      ],
      "text/plain": [
       "Empty DataFrame\n",
       "Columns: [id, description, category]\n",
       "Index: []"
      ]
     },
     "execution_count": 5,
     "metadata": {},
     "output_type": "execute_result"
    }
   ],
   "source": [
    "df_knowledge_base = df_knowledge_base[['id', 'description', 'category']]\n",
    "df_knowledge_base"
   ]
  },
  {
   "cell_type": "code",
   "execution_count": 7,
   "id": "4ebe7d38-b766-4dcf-bf51-c2d651016ee3",
   "metadata": {},
   "outputs": [
    {
     "name": "stderr",
     "output_type": "stream",
     "text": [
      "/usr/local/python/3.12.1/lib/python3.12/site-packages/transformers/tokenization_utils_base.py:1601: FutureWarning: `clean_up_tokenization_spaces` was not set. It will be set to `True` by default. This behavior will be depracted in transformers v4.45, and will be then set to `False` by default. For more details check this issue: https://github.com/huggingface/transformers/issues/31884\n",
      "  warnings.warn(\n"
     ]
    }
   ],
   "source": [
    "model_name = 'all-MiniLM-L6-v2'\n",
    "embedding_model = SentenceTransformer(model_name)"
   ]
  },
  {
   "cell_type": "code",
   "execution_count": 31,
   "id": "6c6c2f44-89f8-4ae6-9775-8b8f722dc94c",
   "metadata": {},
   "outputs": [],
   "source": [
    "cats = df_knowledge_base.to_dict('records')"
   ]
  },
  {
   "cell_type": "code",
   "execution_count": 32,
   "id": "8d24c82e-f55c-4503-b804-a5f5a6c7701e",
   "metadata": {},
   "outputs": [
    {
     "data": {
      "text/plain": [
       "[{'id': 54, 'description': 'SMASH BURGUER', 'category': 'RESTAURANT'},\n",
       " {'id': 57, 'description': 'AMAZON', 'category': 'ONLINE SHOPPING'},\n",
       " {'id': 60,\n",
       "  'description': 'LA SIRENA VENEZUELA MC',\n",
       "  'category': 'SUPERMARKET'},\n",
       " {'id': 62, 'description': 'COFFEE SHOP ONE PLACE', 'category': 'COFFEE SHOP'},\n",
       " {'id': 66,\n",
       "  'description': 'Amazon.com*RV0SD8QA2',\n",
       "  'category': 'ONLINE SHOPPING'},\n",
       " {'id': 59,\n",
       "  'description': 'ALTICE DEBITO DIRECTO',\n",
       "  'category': 'SERVICE PAYMENT'},\n",
       " {'id': 47, 'description': 'PLAZA CENTRAL CIN  MEG', 'category': 'CINEMA'},\n",
       " {'id': 65, 'description': 'JAGI CAPS MEGACENTRO', 'category': 'SUPERMARKET'},\n",
       " {'id': 80, 'description': 'TACOS DEL SOL PIANTINI', 'category': 'RESTAURANT'},\n",
       " {'id': 67, 'description': 'PLAZA LAMA 27 DE FEB', 'category': 'SUPERMARKET'},\n",
       " {'id': 48, 'description': 'PETRONAN LOS HERMANOS', 'category': 'GAS'},\n",
       " {'id': 69, 'description': 'PAGO ONLINE', 'category': 'PAYMENT'},\n",
       " {'id': 85, 'description': 'NETFLIX.COM', 'category': 'SUBSCRIPTION'},\n",
       " {'id': 70,\n",
       "  'description': 'LOS GUSTOSOS RESTAURANT',\n",
       "  'category': 'RESTAURANT'},\n",
       " {'id': 49,\n",
       "  'description': 'INTERES POR SOBREGIRO',\n",
       "  'category': 'FINANCE CHARGE'},\n",
       " {'id': 86,\n",
       "  'description': 'www.aliexpress.com',\n",
       "  'category': 'ONLINE SHOPPING'},\n",
       " {'id': 50, 'description': 'JUMBO MEGACENTRO', 'category': 'SUPERMARKET'},\n",
       " {'id': 71, 'description': 'ANTHROPIC', 'category': 'SUBSCRIPTION'},\n",
       " {'id': 51, 'description': 'PLZ CENTRAL CINEMAS EP', 'category': 'CINEMA'},\n",
       " {'id': 55, 'description': 'GIL SANFROZZ', 'category': 'GROCERY'},\n",
       " {'id': 72,\n",
       "  'description': 'FIFI POSTRE CASEROS LOS P',\n",
       "  'category': 'DESSERTS'},\n",
       " {'id': 56, 'description': 'PLAZA CENTRAL CINEMAS', 'category': 'CINEMA'},\n",
       " {'id': 87, 'description': 'FRALUSA SRL GRANIER', 'category': 'RESTAURANT'},\n",
       " {'id': 58, 'description': 'FINE ARTS NOVO CENTRO', 'category': 'CINEMA'},\n",
       " {'id': 73, 'description': 'BRAVO OZAMA', 'category': 'SUPERMARKET'},\n",
       " {'id': 61, 'description': 'AHORRO PROMOCION TC', 'category': 'DISCOUNT'},\n",
       " {'id': 53,\n",
       "  'description': 'ALTICE DEBITO DIRECTO',\n",
       "  'category': 'SERVICE PAYMENT'},\n",
       " {'id': 88,\n",
       "  'description': 'SM NACIONAL SAN VICENT',\n",
       "  'category': 'SUPERMARKET'},\n",
       " {'id': 75, 'description': 'FARM CAROL MEGAC II', 'category': 'DRUGSTORE'},\n",
       " {'id': 76,\n",
       "  'description': 'BR FACTORY.COM 2624',\n",
       "  'category': 'ONLINE SHOPPING'},\n",
       " {'id': 92, 'description': 'GRANIER GAZCUE', 'category': 'RESTAURANT'},\n",
       " {'id': 77, 'description': 'GRANIER AVILA JSME SRL', 'category': 'RESTAURANT'},\n",
       " {'id': 78, 'description': 'FIGATA PIZZA', 'category': 'RESTAURANT'},\n",
       " {'id': 90, 'description': 'PIZZARELLI OZAMA', 'category': 'RESTAURANT'},\n",
       " {'id': 79,\n",
       "  'description': 'SM NACIONAL SAN VICENT',\n",
       "  'category': 'SUPERMARKET'},\n",
       " {'id': 84,\n",
       "  'description': 'LA SIRENA VENEZUELA MC',\n",
       "  'category': 'SUPERMARKET'},\n",
       " {'id': 89, 'description': 'PAGO ONLINE', 'category': 'PAYMENT'},\n",
       " {'id': 82, 'description': 'RESTAURANTE LA LUPITA', 'category': 'RESTAURANT'},\n",
       " {'id': 81,\n",
       "  'description': 'FIFI POSTRES CASEROS MGCT',\n",
       "  'category': 'DESSERTS'},\n",
       " {'id': 74, 'description': 'PADEL OASIS', 'category': 'SPORTS'},\n",
       " {'id': 68, 'description': 'HOTEL CATALONIA STO DGO', 'category': 'HOTEL'},\n",
       " {'id': 64, 'description': 'HELADOS BON VENEZUELA', 'category': 'DESSERTS'}]"
      ]
     },
     "execution_count": 32,
     "metadata": {},
     "output_type": "execute_result"
    }
   ],
   "source": [
    "cats"
   ]
  },
  {
   "cell_type": "code",
   "execution_count": 33,
   "id": "bc9b47a6-5a2d-4283-9a6d-975039b0565d",
   "metadata": {},
   "outputs": [
    {
     "data": {
      "application/vnd.jupyter.widget-view+json": {
       "model_id": "a1871d85a6104f9ba9c5d451028290fb",
       "version_major": 2,
       "version_minor": 0
      },
      "text/plain": [
       "  0%|          | 0/42 [00:00<?, ?it/s]"
      ]
     },
     "metadata": {},
     "output_type": "display_data"
    }
   ],
   "source": [
    "embeddings = []\n",
    "\n",
    "for cat in tqdm(cats):\n",
    "    description = cat['description']\n",
    "    category = cat['category']\n",
    "    cat_text = f'{description} {category}'\n",
    "    embedding = embedding_model.encode(cat_text)\n",
    "    embeddings.append(embedding)"
   ]
  },
  {
   "cell_type": "code",
   "execution_count": 9,
   "id": "f32af1f6-f5f6-4371-87c6-034f569b3c2d",
   "metadata": {},
   "outputs": [
    {
     "ename": "NameError",
     "evalue": "name 'embeddings' is not defined",
     "output_type": "error",
     "traceback": [
      "\u001b[0;31m---------------------------------------------------------------------------\u001b[0m",
      "\u001b[0;31mNameError\u001b[0m                                 Traceback (most recent call last)",
      "Cell \u001b[0;32mIn[9], line 3\u001b[0m\n\u001b[1;32m      1\u001b[0m \u001b[38;5;28;01mimport\u001b[39;00m \u001b[38;5;21;01mnumpy\u001b[39;00m \u001b[38;5;28;01mas\u001b[39;00m \u001b[38;5;21;01mnp\u001b[39;00m\n\u001b[0;32m----> 3\u001b[0m X \u001b[38;5;241m=\u001b[39m np\u001b[38;5;241m.\u001b[39marray(\u001b[43membeddings\u001b[49m)\n\u001b[1;32m      4\u001b[0m X\u001b[38;5;241m.\u001b[39mshape\n",
      "\u001b[0;31mNameError\u001b[0m: name 'embeddings' is not defined"
     ]
    }
   ],
   "source": [
    "import numpy as np\n",
    "\n",
    "X = np.array(embeddings)\n",
    "X.shape"
   ]
  },
  {
   "cell_type": "code",
   "execution_count": 3,
   "id": "b35fd948-430f-4b60-a3ff-7eb32ae3faa9",
   "metadata": {},
   "outputs": [
    {
     "data": {
      "text/plain": [
       "np.float32(0.061748452)"
      ]
     },
     "execution_count": 3,
     "metadata": {},
     "output_type": "execute_result"
    }
   ],
   "source": [
    "to_predict = 'LA SIRENA'\n",
    "encoding = embedding_model.encode(to_predict)\n",
    "encoding[0]"
   ]
  },
  {
   "cell_type": "code",
   "execution_count": 8,
   "id": "02484346-dfb2-4054-bd73-9abfedcee553",
   "metadata": {},
   "outputs": [
    {
     "ename": "NameError",
     "evalue": "name 'X' is not defined",
     "output_type": "error",
     "traceback": [
      "\u001b[0;31m---------------------------------------------------------------------------\u001b[0m",
      "\u001b[0;31mNameError\u001b[0m                                 Traceback (most recent call last)",
      "Cell \u001b[0;32mIn[8], line 2\u001b[0m\n\u001b[1;32m      1\u001b[0m v \u001b[38;5;241m=\u001b[39m encoding\n\u001b[0;32m----> 2\u001b[0m scores \u001b[38;5;241m=\u001b[39m \u001b[43mX\u001b[49m\u001b[38;5;241m.\u001b[39mdot(v)\n\u001b[1;32m      3\u001b[0m scores\u001b[38;5;241m.\u001b[39mmax()\n",
      "\u001b[0;31mNameError\u001b[0m: name 'X' is not defined"
     ]
    }
   ],
   "source": [
    "v = encoding\n",
    "scores = X.dot(v)\n",
    "scores.max()"
   ]
  },
  {
   "cell_type": "code",
   "execution_count": 37,
   "id": "9295c98d-a925-4585-ae1b-b6c6dd64474d",
   "metadata": {},
   "outputs": [
    {
     "data": {
      "text/plain": [
       "384"
      ]
     },
     "execution_count": 37,
     "metadata": {},
     "output_type": "execute_result"
    }
   ],
   "source": [
    "len(v)"
   ]
  },
  {
   "cell_type": "code",
   "execution_count": 38,
   "id": "d9a97097-5952-42de-905e-203e6dce27f7",
   "metadata": {},
   "outputs": [],
   "source": [
    "class VectorSearchEngine():\n",
    "    def __init__(self, documents, embeddings):\n",
    "        self.documents = documents\n",
    "        self.embeddings = embeddings\n",
    "\n",
    "    def search(self, v_query, num_results=10):\n",
    "        scores = self.embeddings.dot(v_query)\n",
    "        idx = np.argsort(-scores)[:num_results]\n",
    "        return [self.documents[i] for i in idx]"
   ]
  },
  {
   "cell_type": "code",
   "execution_count": 39,
   "id": "9c419e89-3d24-46e5-a34d-ca5a3dcb65d0",
   "metadata": {
    "scrolled": true
   },
   "outputs": [
    {
     "data": {
      "text/plain": [
       "[{'id': 60,\n",
       "  'description': 'LA SIRENA VENEZUELA MC',\n",
       "  'category': 'SUPERMARKET'},\n",
       " {'id': 84,\n",
       "  'description': 'LA SIRENA VENEZUELA MC',\n",
       "  'category': 'SUPERMARKET'}]"
      ]
     },
     "execution_count": 39,
     "metadata": {},
     "output_type": "execute_result"
    }
   ],
   "source": [
    "search_engine = VectorSearchEngine(documents=cats, embeddings=X)\n",
    "search_engine.search(v, num_results=2)"
   ]
  },
  {
   "cell_type": "code",
   "execution_count": 2,
   "id": "88b25000-67ec-442f-9cb1-0294f3e76dea",
   "metadata": {},
   "outputs": [],
   "source": [
    "from elasticsearch import Elasticsearch\n",
    "\n",
    "es_client = Elasticsearch('http://127.0.0.1:9200', request_timeout=500) \n",
    "\n",
    "index_settings = {\n",
    "    \"settings\": {\n",
    "        \"number_of_shards\": 1,\n",
    "        \"number_of_replicas\": 0\n",
    "    },\n",
    "    \"mappings\": {\n",
    "        \"properties\": {\n",
    "            \"id\": {\"type\": \"keyword\"},\n",
    "            \"description\": {\"type\": \"text\"},\n",
    "            \"category\": {\"type\": \"text\"},\n",
    "            \"description_vector\": {\n",
    "                \"type\": \"dense_vector\",\n",
    "                \"dims\": 384,\n",
    "                \"index\": True,\n",
    "                \"similarity\": \"cosine\"\n",
    "            },\n",
    "        }\n",
    "    }\n",
    "}\n",
    "\n",
    "index_name = \"categories\""
   ]
  },
  {
   "cell_type": "code",
   "execution_count": 2,
   "id": "542efd1f-d3a8-455c-9eeb-261f13f1f172",
   "metadata": {},
   "outputs": [
    {
     "data": {
      "text/plain": [
       "ObjectApiResponse({'acknowledged': True})"
      ]
     },
     "execution_count": 2,
     "metadata": {},
     "output_type": "execute_result"
    }
   ],
   "source": [
    "es_client.indices.delete(index=index_name, ignore_unavailable=True)"
   ]
  },
  {
   "cell_type": "code",
   "execution_count": 3,
   "id": "36a44c33-67d6-4345-bef6-f472dd96f031",
   "metadata": {},
   "outputs": [
    {
     "name": "stdout",
     "output_type": "stream",
     "text": [
      "creating index\n",
      "index created\n",
      "{'categories': {'settings': {'index': {'routing': {'allocation': {'include': {'_tier_preference': 'data_content'}}}, 'number_of_shards': '1', 'provided_name': 'categories', 'creation_date': '1725968102858', 'number_of_replicas': '0', 'uuid': 'VF2UeYl5QzeNwrmHE56zZg', 'version': {'created': '8040399'}}}}}\n"
     ]
    }
   ],
   "source": [
    "if not es_client.indices.exists(index=index_name):\n",
    "    print('creating index')\n",
    "    es_client.indices.create(index=index_name, body=index_settings)\n",
    "    print('index created')\n",
    "    print(es_client.indices.get_settings(index=index_name))"
   ]
  },
  {
   "cell_type": "code",
   "execution_count": 46,
   "id": "73419cb6-e6dc-4abc-83be-7126ab9e790e",
   "metadata": {},
   "outputs": [],
   "source": [
    "ground_truth = cats"
   ]
  },
  {
   "cell_type": "code",
   "execution_count": 47,
   "id": "54dafc74-256c-42d1-9817-ae509aafc04a",
   "metadata": {},
   "outputs": [
    {
     "data": {
      "text/plain": [
       "{'id': 54, 'description': 'SMASH BURGUER', 'category': 'RESTAURANT'}"
      ]
     },
     "execution_count": 47,
     "metadata": {},
     "output_type": "execute_result"
    }
   ],
   "source": [
    "ground_truth[0]"
   ]
  },
  {
   "cell_type": "code",
   "execution_count": 48,
   "id": "226881d6-c3ad-436b-92d9-376c3addd354",
   "metadata": {},
   "outputs": [
    {
     "data": {
      "application/vnd.jupyter.widget-view+json": {
       "model_id": "fc44b89eca2c443caa358b5b173bbc4e",
       "version_major": 2,
       "version_minor": 0
      },
      "text/plain": [
       "  0%|          | 0/42 [00:00<?, ?it/s]"
      ]
     },
     "metadata": {},
     "output_type": "display_data"
    }
   ],
   "source": [
    "# create embeddings\n",
    "for cat in tqdm(ground_truth):\n",
    "    description = cat['description']\n",
    "    cat['description_vector'] = embedding_model.encode(description)"
   ]
  },
  {
   "cell_type": "code",
   "execution_count": 53,
   "id": "7f876c67-55c4-44a0-962c-15c24cf768d2",
   "metadata": {},
   "outputs": [
    {
     "data": {
      "text/plain": [
       "{'id': 54,\n",
       " 'description': 'SMASH BURGUER',\n",
       " 'category': 'RESTAURANT',\n",
       " 'description_vector': array([ 1.34226568e-02,  7.57203437e-04, -2.51709353e-02,  5.45753399e-03,\n",
       "        -8.82995054e-02,  1.19551226e-01,  5.65344505e-02,  5.12149511e-03,\n",
       "         3.80637147e-03, -1.28104994e-02, -3.93640175e-02, -9.94731709e-02,\n",
       "        -3.17534688e-03,  1.94332679e-03,  9.28765722e-03,  6.98426664e-02,\n",
       "        -2.09480844e-04,  3.35071459e-02, -2.14301180e-02, -9.20342281e-03,\n",
       "        -5.92158958e-02,  9.19533428e-03,  3.98660973e-02,  7.58114755e-02,\n",
       "        -2.34276466e-02, -1.92669481e-02,  2.61279033e-03,  3.45828459e-02,\n",
       "        -3.10578290e-02, -1.00138925e-01,  4.13720869e-02, -4.74197045e-02,\n",
       "         5.84138557e-02, -5.81344124e-03, -4.35380712e-02, -3.87630500e-02,\n",
       "         1.65780149e-02,  1.79668758e-02, -9.83983185e-03,  4.69177403e-02,\n",
       "        -5.45436330e-02, -3.25366370e-02,  3.12766968e-03,  7.36454828e-03,\n",
       "         3.35040912e-02, -4.58420403e-02, -2.65942067e-02,  6.64915293e-02,\n",
       "         3.80952321e-02, -9.35123608e-05, -3.17086354e-02, -2.65913364e-02,\n",
       "         3.58484909e-02,  3.69375834e-04,  1.45819277e-01,  6.41364008e-02,\n",
       "         1.68381315e-02, -3.64818983e-02,  1.04399264e-01,  6.12854809e-02,\n",
       "         4.07196432e-02,  3.77489887e-02, -3.90046206e-03, -5.29940128e-02,\n",
       "        -1.58491135e-02, -7.84392282e-02,  4.33638273e-03,  9.74683315e-02,\n",
       "         7.05957599e-03,  1.16790570e-01,  4.26662527e-02, -9.10720900e-02,\n",
       "        -2.69421395e-02, -8.30372516e-03,  4.97477837e-02, -5.67391366e-02,\n",
       "        -7.20438808e-02, -5.95655888e-02,  5.88147044e-02,  1.37238652e-02,\n",
       "        -7.20216110e-02, -1.08266152e-01, -1.29725546e-01, -2.40965653e-03,\n",
       "        -1.40615758e-02,  4.73984443e-02,  2.42242198e-02,  7.03796670e-02,\n",
       "        -8.20392929e-03,  1.33086955e-02,  2.93873958e-02, -6.88716164e-03,\n",
       "         1.48921134e-02,  3.37711349e-02, -3.23690921e-02,  1.60894841e-02,\n",
       "        -7.82269577e-04, -6.38037995e-02,  4.20191772e-02,  1.16786465e-01,\n",
       "        -5.77092879e-02,  6.02475703e-02,  3.35186943e-02, -5.54106124e-02,\n",
       "        -2.10952270e-03, -6.32253364e-02,  3.02953590e-02,  8.68851542e-02,\n",
       "         5.34521136e-03, -7.64482692e-02,  2.45228317e-02, -1.93863437e-02,\n",
       "        -2.82190070e-02,  3.03705819e-02,  9.53770522e-03,  2.52014585e-02,\n",
       "         2.44423859e-02, -5.62954322e-02, -6.15601391e-02, -4.83248867e-02,\n",
       "         8.02975446e-02,  4.20833938e-02, -7.39693493e-02,  4.65997942e-02,\n",
       "        -4.29432690e-02, -2.24865638e-02, -3.88427228e-02, -1.92485191e-34,\n",
       "         1.04615927e-01, -3.14348973e-02, -2.07664240e-02,  5.03510758e-02,\n",
       "         1.75067503e-02,  3.28064784e-02, -3.72512601e-02,  1.71006415e-02,\n",
       "        -1.93833522e-02,  3.88014317e-02, -6.38668425e-04, -3.96229699e-02,\n",
       "        -1.64672583e-02, -6.67709634e-02,  9.24255997e-02, -1.79330409e-02,\n",
       "        -7.75571689e-02,  6.42203689e-02, -3.44180577e-02,  9.64276958e-04,\n",
       "        -2.52673011e-02,  9.45477784e-02, -5.77126257e-02,  9.99903027e-03,\n",
       "         3.67275462e-03, -9.89110675e-04,  3.82307172e-02, -3.16912457e-02,\n",
       "         6.96487650e-02,  5.24466261e-02,  8.79323334e-02, -7.65772630e-03,\n",
       "        -3.73946093e-02, -3.35002430e-02,  9.11654730e-04, -1.26485735e-01,\n",
       "        -7.64128193e-02, -8.95485431e-02, -1.05706580e-01, -4.06282842e-02,\n",
       "         2.01952420e-02, -1.20139876e-02, -1.41078427e-01,  4.74559590e-02,\n",
       "         2.55640391e-02, -5.24346791e-02,  2.21760124e-02,  8.42806920e-02,\n",
       "         6.57933503e-02, -1.53812789e-03,  6.82051182e-02,  4.20368873e-02,\n",
       "         1.15909148e-02,  5.04416786e-02, -3.35444026e-02,  6.32207841e-02,\n",
       "         8.88464972e-02, -2.16520652e-02,  3.64391282e-02,  8.23612660e-02,\n",
       "         5.42975329e-02,  4.55638170e-02,  5.66108935e-02,  1.00358007e-02,\n",
       "        -3.35406177e-02, -4.04942259e-02,  2.65499521e-02,  4.96147349e-02,\n",
       "        -4.02998663e-02, -5.39329574e-02,  2.76430231e-02, -1.78122353e-02,\n",
       "        -2.99041942e-02,  1.80850718e-02, -8.24151374e-03, -2.55982876e-02,\n",
       "         3.23133031e-03,  8.08700770e-02, -2.40620654e-02, -8.06293339e-02,\n",
       "        -6.92680255e-02, -2.50195479e-03,  3.33951898e-02, -5.86470170e-03,\n",
       "         1.13090025e-02,  4.82543893e-02,  6.11559721e-03, -7.44598657e-02,\n",
       "        -2.79121045e-02,  3.51032056e-02, -1.23205520e-01, -2.73544099e-02,\n",
       "         1.87694710e-02, -7.67552182e-02, -3.55013050e-02, -4.08162174e-35,\n",
       "         1.82325568e-03, -6.96142390e-02, -2.03248002e-02,  2.64677126e-02,\n",
       "         2.90906411e-02, -1.66252833e-02, -7.14600906e-02,  5.85846938e-02,\n",
       "        -3.69398668e-02, -2.00850945e-02,  3.12670097e-02, -5.72697667e-04,\n",
       "         4.83859368e-02, -3.01763713e-02,  6.80503547e-02,  2.45950408e-02,\n",
       "         8.22166651e-02, -1.43178180e-02, -9.19211507e-02,  2.65676212e-02,\n",
       "        -1.98351871e-02, -9.18916538e-02,  9.02020708e-02, -5.51124290e-03,\n",
       "         1.65356789e-02,  6.55273199e-02,  7.61941820e-02,  8.59905127e-03,\n",
       "        -1.75689831e-02,  3.51514034e-02,  7.57455081e-02, -3.53527293e-02,\n",
       "        -4.51762676e-02,  1.53526552e-02, -4.63511012e-02,  2.92995870e-02,\n",
       "         1.76313277e-02,  7.73797855e-02,  7.28144217e-03, -3.62244956e-02,\n",
       "         1.31141888e-02,  5.98089360e-02, -9.99493077e-02,  5.83114251e-02,\n",
       "        -1.06934207e-02,  7.79114803e-03, -9.32936277e-03,  2.42510904e-02,\n",
       "         5.31728715e-02,  3.63438651e-02, -2.68032830e-02, -1.94460119e-03,\n",
       "         4.18127365e-02, -3.04110497e-02, -6.64244369e-02, -1.74687840e-02,\n",
       "         2.64732074e-03, -1.12909712e-01, -3.52668506e-03, -2.91192085e-02,\n",
       "        -7.80010000e-02,  4.50838953e-02,  1.44209247e-03,  6.85715228e-02,\n",
       "         8.20360205e-04, -8.94886255e-03, -1.06523789e-01,  3.95780765e-02,\n",
       "        -9.42122843e-03, -9.80827287e-02, -4.66821939e-02, -5.03550284e-03,\n",
       "         8.11336283e-03,  9.72852111e-02, -1.25174806e-01,  3.26765627e-02,\n",
       "        -3.33584920e-02, -3.79108563e-02,  4.48797084e-03,  8.22836459e-02,\n",
       "         1.23642618e-02,  1.98449139e-02, -2.18461175e-02,  5.87332025e-02,\n",
       "        -3.32674198e-02, -7.06177428e-02,  9.11961496e-03,  4.70622554e-02,\n",
       "         3.69584262e-02, -2.10948233e-02, -1.13754878e-02,  1.02424743e-02,\n",
       "         2.28404477e-02, -1.90978441e-02,  9.33281146e-03, -1.43750496e-08,\n",
       "        -1.67938694e-02,  6.23566359e-02, -5.46344556e-03,  1.20412745e-02,\n",
       "         1.06123555e-03, -8.42456357e-04, -1.22038834e-01, -4.31196280e-02,\n",
       "        -1.95981897e-02, -2.97532342e-02, -4.81175492e-03, -1.81015451e-02,\n",
       "        -3.00886538e-02,  5.65379970e-02, -1.79752577e-02,  1.42039992e-02,\n",
       "         2.65921596e-02, -8.71132463e-02, -2.25560106e-02,  1.99859310e-02,\n",
       "        -1.00877225e-01,  5.75563032e-03,  8.29379931e-02,  9.42041576e-02,\n",
       "        -4.36140671e-02,  2.16085203e-02, -7.04487860e-02,  2.29766201e-02,\n",
       "         9.80222076e-02,  6.00143056e-03,  1.15890183e-01,  7.05885515e-02,\n",
       "        -1.77522376e-02,  5.67098036e-02, -3.21891643e-02,  5.17173968e-02,\n",
       "        -4.15150449e-02,  6.24075253e-03, -5.23066521e-02,  9.66815427e-02,\n",
       "         1.59494951e-03, -3.72334830e-02,  2.08675582e-02, -5.16491802e-03,\n",
       "        -8.54269937e-02, -7.01329261e-02, -6.87965453e-02, -1.07390201e-02,\n",
       "        -6.70770742e-03, -1.46715660e-02,  3.41951326e-02,  3.37154837e-03,\n",
       "        -2.23086588e-03,  4.41526584e-02,  4.34611589e-02,  1.11067854e-01,\n",
       "        -5.40995188e-02, -3.31233926e-02,  7.49603799e-03,  3.53120789e-02,\n",
       "         6.86571151e-02, -4.83138785e-02,  6.61924705e-02,  5.81779517e-02],\n",
       "       dtype=float32)}"
      ]
     },
     "execution_count": 53,
     "metadata": {},
     "output_type": "execute_result"
    }
   ],
   "source": [
    "ground_truth[0]"
   ]
  },
  {
   "cell_type": "code",
   "execution_count": 50,
   "id": "49da42b5-d3e1-42cb-92c1-44d81428e5db",
   "metadata": {},
   "outputs": [
    {
     "data": {
      "text/plain": [
       "384"
      ]
     },
     "execution_count": 50,
     "metadata": {},
     "output_type": "execute_result"
    }
   ],
   "source": [
    "len(ground_truth[0]['description_vector'])"
   ]
  },
  {
   "cell_type": "code",
   "execution_count": 61,
   "id": "76ce8d48-3969-4a62-b95c-aa961d40b2f9",
   "metadata": {},
   "outputs": [
    {
     "data": {
      "application/vnd.jupyter.widget-view+json": {
       "model_id": "34189b304c744eb391f91cc0dab947a9",
       "version_major": 2,
       "version_minor": 0
      },
      "text/plain": [
       "  0%|          | 0/42 [00:00<?, ?it/s]"
      ]
     },
     "metadata": {},
     "output_type": "display_data"
    }
   ],
   "source": [
    "for cat in tqdm(ground_truth):\n",
    "    es_client.index(index=index_name, document=cat)"
   ]
  },
  {
   "cell_type": "code",
   "execution_count": 4,
   "id": "42747029-61e1-4017-8a96-77f8b403730f",
   "metadata": {},
   "outputs": [],
   "source": [
    "def elastic_search_knn(field, vector):\n",
    "    knn = {\n",
    "        \"field\": field,\n",
    "        \"query_vector\": vector,\n",
    "        \"k\": 2,\n",
    "        \"num_candidates\": 10000,\n",
    "    }\n",
    "\n",
    "    search_query = {\n",
    "        \"knn\": knn,\n",
    "        \"_source\": [\"id\", \"description\", \"category\"]\n",
    "    }\n",
    "\n",
    "    es_results = es_client.search(\n",
    "        index=index_name,\n",
    "        body=search_query\n",
    "    )\n",
    "    \n",
    "    result_docs = []\n",
    "    print(es_results['hits']['hits'])\n",
    "    \n",
    "    for hit in es_results['hits']['hits']:\n",
    "        result_docs.append(hit['_source'])\n",
    "\n",
    "    return result_docs"
   ]
  },
  {
   "cell_type": "code",
   "execution_count": 7,
   "id": "366b23fc-8df8-443f-926f-94bac3171ac3",
   "metadata": {},
   "outputs": [
    {
     "ename": "NameError",
     "evalue": "name 'v' is not defined",
     "output_type": "error",
     "traceback": [
      "\u001b[0;31m---------------------------------------------------------------------------\u001b[0m",
      "\u001b[0;31mNameError\u001b[0m                                 Traceback (most recent call last)",
      "Cell \u001b[0;32mIn[7], line 1\u001b[0m\n\u001b[0;32m----> 1\u001b[0m elastic_search_knn(\u001b[38;5;124m'\u001b[39m\u001b[38;5;124mdescription_vector\u001b[39m\u001b[38;5;124m'\u001b[39m, \u001b[43mv\u001b[49m)\n",
      "\u001b[0;31mNameError\u001b[0m: name 'v' is not defined"
     ]
    }
   ],
   "source": [
    "elastic_search_knn('description_vector', v)"
   ]
  },
  {
   "cell_type": "code",
   "execution_count": 5,
   "id": "f75ba973-55a1-4f8b-8569-137256e9a79c",
   "metadata": {},
   "outputs": [],
   "source": [
    "def description_search(desc):\n",
    "    v_desc = embedding_model.encode(desc)\n",
    "    return elastic_search_knn('description_vector', v_desc)"
   ]
  },
  {
   "cell_type": "code",
   "execution_count": 11,
   "id": "f2d381a3-4a0e-4c28-87f0-36c663f55f3f",
   "metadata": {},
   "outputs": [
    {
     "name": "stdout",
     "output_type": "stream",
     "text": [
      "[{'_index': 'categories', '_id': 'NzrG25EBuVaiEa8Nf4An', '_score': 0.9137075, '_source': {'description': 'FIFI POSTRES CASEROS MGCT', 'id': 81, 'category': 'DESSERTS'}}, {'_index': 'categories', '_id': 'bzrG25EBuVaiEa8NhIAl', '_score': 0.9137075, '_source': {'description': 'FIFI POSTRES CASEROS MGCT', 'id': 81, 'category': 'DESSERTS'}}]\n"
     ]
    },
    {
     "data": {
      "text/plain": [
       "[{'description': 'FIFI POSTRES CASEROS MGCT',\n",
       "  'id': 81,\n",
       "  'category': 'DESSERTS'},\n",
       " {'description': 'FIFI POSTRES CASEROS MGCT',\n",
       "  'id': 81,\n",
       "  'category': 'DESSERTS'}]"
      ]
     },
     "execution_count": 11,
     "metadata": {},
     "output_type": "execute_result"
    }
   ],
   "source": [
    "description_search('FIFI POSTRES')"
   ]
  },
  {
   "cell_type": "code",
   "execution_count": 14,
   "id": "41776d93-17af-4fcd-8620-4ea2e49ba5c2",
   "metadata": {},
   "outputs": [],
   "source": [
    "def build_category_prompts(desc, search_results):\n",
    "    system_prompt = \"\"\"You are a transactions experts and you determine the exact CATEGORY from the transaction description.\n",
    "    For example if the user asks:\n",
    "\n",
    "    Provide the category for this transaction description:\n",
    "    ```json\n",
    "    {\n",
    "        \"description\": \"SUPERMERCADO BRAVO\"\n",
    "    }\n",
    "    ```\n",
    "    Using this REFERENCES:\n",
    "    description: LA SIRENA VENEZUELA\n",
    "    category: SUPERMARKET\n",
    "\n",
    "    description: SM NACIONAL AV SAN VICENTE\n",
    "    category: SUPERMARKET\n",
    "    \n",
    "    You respond the following category in json:\n",
    "    The final category is:\n",
    "    ```json\n",
    "    {{\n",
    "        \"category\": \"SUPERMARKET\"\n",
    "    }}\n",
    "    ```\n",
    "    \"\"\"\n",
    "    prompt_template = \"\"\"\n",
    "    Provide the category for this transaction description:\n",
    "    ```json\n",
    "    {{\n",
    "        \"description\": \"{descrip}\"\n",
    "    }}\n",
    "    ```\n",
    "    Using this REFERENCES:\n",
    "    {references}\n",
    "    \n",
    "    The final CATEGORY is:\n",
    "    \"\"\"\n",
    "\n",
    "    reference = \"\"\n",
    "    for doc in search_results:\n",
    "        reference = reference + f\"description: {doc['description']}\\ncategory: {doc['category']}\\n\\n\"\n",
    "\n",
    "    user_prompt = prompt_template.format(descrip=desc, references=reference).strip()\n",
    "\n",
    "    return system_prompt, user_prompt\n"
   ]
  },
  {
   "cell_type": "code",
   "execution_count": 17,
   "id": "6abefc3b-9b91-45e7-ac49-8eaa3c0c9171",
   "metadata": {},
   "outputs": [
    {
     "name": "stdout",
     "output_type": "stream",
     "text": [
      "[{'_index': 'categories', '_id': 'ehaN1pEBfweQTlrIN8PF', '_score': 0.76724565, '_source': {'description': 'BRAVO OZAMA', 'id': 73, 'category': 'SUPERMARKET'}}, {'_index': 'categories', '_id': 'pBaN1pEBfweQTlrIO8OT', '_score': 0.76724565, '_source': {'description': 'BRAVO OZAMA', 'id': 73, 'category': 'SUPERMARKET'}}]\n"
     ]
    },
    {
     "data": {
      "text/plain": [
       "[{'description': 'BRAVO OZAMA', 'id': 73, 'category': 'SUPERMARKET'},\n",
       " {'description': 'BRAVO OZAMA', 'id': 73, 'category': 'SUPERMARKET'}]"
      ]
     },
     "execution_count": 17,
     "metadata": {},
     "output_type": "execute_result"
    }
   ],
   "source": [
    "search_results = description_search('BRAVO')\n",
    "search_results"
   ]
  },
  {
   "cell_type": "code",
   "execution_count": 15,
   "id": "228a1e5f-595e-4379-a283-6c4d30fbdaa3",
   "metadata": {},
   "outputs": [
    {
     "data": {
      "text/plain": [
       "'Provide the category for this transaction description:\\n    ```json\\n    {\\n        \"description\": \"GRANIER\"\\n    }\\n    ```\\n    Using this REFERENCES:\\n    description: GRANIER GAZCUE\\ncategory: RESTAURANT\\n\\ndescription: GRANIER GAZCUE\\ncategory: RESTAURANT\\n\\n\\n    \\n    The final CATEGORY is:'"
      ]
     },
     "execution_count": 15,
     "metadata": {},
     "output_type": "execute_result"
    }
   ],
   "source": [
    "system_p, user_p = build_category_prompts('GRANIER', search_results)\n",
    "user_p"
   ]
  },
  {
   "cell_type": "code",
   "execution_count": 19,
   "id": "4c810d15-92d4-4870-985d-491c64473c60",
   "metadata": {},
   "outputs": [
    {
     "name": "stderr",
     "output_type": "stream",
     "text": [
      "huggingface/tokenizers: The current process just got forked, after parallelism has already been used. Disabling parallelism to avoid deadlocks...\n",
      "To disable this warning, you can either:\n",
      "\t- Avoid using `tokenizers` before the fork if possible\n",
      "\t- Explicitly set the environment variable TOKENIZERS_PARALLELISM=(true | false)\n"
     ]
    },
    {
     "name": "stdout",
     "output_type": "stream",
     "text": [
      "Collecting openai\n",
      "  Downloading openai-1.44.0-py3-none-any.whl.metadata (22 kB)\n",
      "Requirement already satisfied: anyio<5,>=3.5.0 in /home/codespace/.local/lib/python3.12/site-packages (from openai) (4.4.0)\n",
      "Requirement already satisfied: distro<2,>=1.7.0 in /usr/local/python/3.12.1/lib/python3.12/site-packages (from openai) (1.9.0)\n",
      "Requirement already satisfied: httpx<1,>=0.23.0 in /home/codespace/.local/lib/python3.12/site-packages (from openai) (0.27.0)\n",
      "Collecting jiter<1,>=0.4.0 (from openai)\n",
      "  Downloading jiter-0.5.0-cp312-cp312-manylinux_2_17_x86_64.manylinux2014_x86_64.whl.metadata (3.6 kB)\n",
      "Requirement already satisfied: pydantic<3,>=1.9.0 in /usr/local/python/3.12.1/lib/python3.12/site-packages (from openai) (2.8.2)\n",
      "Requirement already satisfied: sniffio in /home/codespace/.local/lib/python3.12/site-packages (from openai) (1.3.1)\n",
      "Requirement already satisfied: tqdm>4 in /usr/local/python/3.12.1/lib/python3.12/site-packages (from openai) (4.66.5)\n",
      "Collecting typing-extensions<5,>=4.11 (from openai)\n",
      "  Downloading typing_extensions-4.12.2-py3-none-any.whl.metadata (3.0 kB)\n",
      "Requirement already satisfied: idna>=2.8 in /home/codespace/.local/lib/python3.12/site-packages (from anyio<5,>=3.5.0->openai) (3.7)\n",
      "Requirement already satisfied: certifi in /home/codespace/.local/lib/python3.12/site-packages (from httpx<1,>=0.23.0->openai) (2024.7.4)\n",
      "Requirement already satisfied: httpcore==1.* in /home/codespace/.local/lib/python3.12/site-packages (from httpx<1,>=0.23.0->openai) (1.0.5)\n",
      "Requirement already satisfied: h11<0.15,>=0.13 in /home/codespace/.local/lib/python3.12/site-packages (from httpcore==1.*->httpx<1,>=0.23.0->openai) (0.14.0)\n",
      "Requirement already satisfied: annotated-types>=0.4.0 in /usr/local/python/3.12.1/lib/python3.12/site-packages (from pydantic<3,>=1.9.0->openai) (0.7.0)\n",
      "Requirement already satisfied: pydantic-core==2.20.1 in /usr/local/python/3.12.1/lib/python3.12/site-packages (from pydantic<3,>=1.9.0->openai) (2.20.1)\n",
      "Downloading openai-1.44.0-py3-none-any.whl (367 kB)\n",
      "Downloading jiter-0.5.0-cp312-cp312-manylinux_2_17_x86_64.manylinux2014_x86_64.whl (319 kB)\n",
      "Downloading typing_extensions-4.12.2-py3-none-any.whl (37 kB)\n",
      "Installing collected packages: typing-extensions, jiter, openai\n",
      "  Attempting uninstall: typing-extensions\n",
      "    Found existing installation: typing_extensions 4.9.0\n",
      "    Uninstalling typing_extensions-4.9.0:\n",
      "      Successfully uninstalled typing_extensions-4.9.0\n",
      "Successfully installed jiter-0.5.0 openai-1.44.0 typing-extensions-4.12.2\n"
     ]
    }
   ],
   "source": [
    "!pip install openai"
   ]
  },
  {
   "cell_type": "code",
   "execution_count": 22,
   "id": "7e623fb9-031c-42fe-9f80-375a64872cea",
   "metadata": {},
   "outputs": [],
   "source": [
    "from openai import OpenAI\n",
    "import os\n",
    "from dotenv import load_dotenv\n",
    "\n",
    "load_dotenv()\n",
    "\n",
    "OPENAI_API_KEY = os.getenv('OPENAI_API_KEY')\n",
    "\n",
    "client = OpenAI(api_key=OPENAI_API_KEY)\n",
    "\n",
    "model_name = \"gpt-4o-mini\""
   ]
  },
  {
   "cell_type": "code",
   "execution_count": 23,
   "id": "e99eb570-3f50-49f2-9594-6c3fd8da0567",
   "metadata": {},
   "outputs": [],
   "source": [
    "def get_category(client, model_name, description):\n",
    "    search_results = description_search(description)\n",
    "    system_prompt, prompt = build_category_prompts(description, search_results)\n",
    "    chat_completion = client.chat.completions.create(\n",
    "        messages=[\n",
    "            {\n",
    "                \"role\": \"system\",\n",
    "                \"content\": system_prompt,\n",
    "            },\n",
    "            {\n",
    "                \"role\": \"user\",\n",
    "                \"content\": prompt,\n",
    "            }\n",
    "        ],\n",
    "        model=model_name,\n",
    "        # model=\"llama-3.1-70b-versatile\",\n",
    "    )\n",
    "    return  chat_completion.choices[0].message.content"
   ]
  },
  {
   "cell_type": "code",
   "execution_count": 24,
   "id": "0868ecaa-098b-43a9-ab8f-2282dad376b4",
   "metadata": {},
   "outputs": [
    {
     "name": "stdout",
     "output_type": "stream",
     "text": [
      "[{'_index': 'categories', '_id': 'ehaN1pEBfweQTlrIN8PF', '_score': 0.76724565, '_source': {'description': 'BRAVO OZAMA', 'id': 73, 'category': 'SUPERMARKET'}}, {'_index': 'categories', '_id': 'pBaN1pEBfweQTlrIO8OT', '_score': 0.76724565, '_source': {'description': 'BRAVO OZAMA', 'id': 73, 'category': 'SUPERMARKET'}}]\n"
     ]
    },
    {
     "data": {
      "text/plain": [
       "'```json\\n{\\n    \"category\": \"SUPERMARKET\"\\n}\\n```'"
      ]
     },
     "execution_count": 24,
     "metadata": {},
     "output_type": "execute_result"
    }
   ],
   "source": [
    "predicted_category = get_category(client, model_name, 'BRAVO')\n",
    "predicted_category"
   ]
  },
  {
   "cell_type": "code",
   "execution_count": 33,
   "id": "59373d24-3f48-46ee-87b5-c780dd343bef",
   "metadata": {},
   "outputs": [],
   "source": [
    "import json\n",
    "def get_json_from_description_oa(description):\n",
    "    # dotenv_path = Path('magic/.env')\n",
    "    # load_dotenv(dotenv_path)\n",
    "    load_dotenv()\n",
    "\n",
    "    OPENAI_API_KEY = os.getenv('OPENAI_API_KEY')\n",
    "\n",
    "    client = OpenAI(api_key=OPENAI_API_KEY)\n",
    "\n",
    "    model_name = \"gpt-4o-mini\"\n",
    "\n",
    "    result = get_category(client, model_name, description)\n",
    "    \n",
    "    final_result = result.split('```json')[1].split('```')[0]\n",
    "    json_data = json.loads(final_result)\n",
    "    json_string = json.dumps(json_data)\n",
    "    \n",
    "    return json_data['category']"
   ]
  },
  {
   "cell_type": "code",
   "execution_count": 34,
   "id": "cfadabf6-ed27-4ea0-b65b-8e8d64d6e445",
   "metadata": {},
   "outputs": [
    {
     "name": "stdout",
     "output_type": "stream",
     "text": [
      "[{'_index': 'categories', '_id': 'ehaN1pEBfweQTlrIN8PF', '_score': 0.76724565, '_source': {'description': 'BRAVO OZAMA', 'id': 73, 'category': 'SUPERMARKET'}}, {'_index': 'categories', '_id': 'pBaN1pEBfweQTlrIO8OT', '_score': 0.76724565, '_source': {'description': 'BRAVO OZAMA', 'id': 73, 'category': 'SUPERMARKET'}}]\n"
     ]
    },
    {
     "data": {
      "text/plain": [
       "'SUPERMARKET'"
      ]
     },
     "execution_count": 34,
     "metadata": {},
     "output_type": "execute_result"
    }
   ],
   "source": [
    "str_dicted_category = get_json_from_description_oa('BRAVO')\n",
    "str_dicted_category"
   ]
  }
 ],
 "metadata": {
  "kernelspec": {
   "display_name": "Python 3 (ipykernel)",
   "language": "python",
   "name": "python3"
  },
  "language_info": {
   "codemirror_mode": {
    "name": "ipython",
    "version": 3
   },
   "file_extension": ".py",
   "mimetype": "text/x-python",
   "name": "python",
   "nbconvert_exporter": "python",
   "pygments_lexer": "ipython3",
   "version": "3.12.1"
  }
 },
 "nbformat": 4,
 "nbformat_minor": 5
}
