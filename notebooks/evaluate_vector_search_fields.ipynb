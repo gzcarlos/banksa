{
 "cells": [
  {
   "cell_type": "markdown",
   "id": "0ae27a1b-2867-4909-a9ee-82dbddde2808",
   "metadata": {},
   "source": [
    "## Imports"
   ]
  },
  {
   "cell_type": "code",
   "execution_count": 1,
   "id": "0b2ecb6e-1eaf-4aa3-8709-fb28512bd8e5",
   "metadata": {},
   "outputs": [
    {
     "name": "stderr",
     "output_type": "stream",
     "text": [
      "/usr/local/python/3.12.1/lib/python3.12/site-packages/sentence_transformers/cross_encoder/CrossEncoder.py:11: TqdmExperimentalWarning: Using `tqdm.autonotebook.tqdm` in notebook mode. Use `tqdm.tqdm` instead to force console mode (e.g. in jupyter console)\n",
      "  from tqdm.autonotebook import tqdm, trange\n"
     ]
    }
   ],
   "source": [
    "from sentence_transformers import SentenceTransformer\n",
    "from tqdm.auto import tqdm\n",
    "\n",
    "import psycopg2\n",
    "from psycopg2 import sql\n",
    "import pandas as pd\n"
   ]
  },
  {
   "cell_type": "markdown",
   "id": "421e838e-c861-4761-809e-db7dd66cf299",
   "metadata": {},
   "source": [
    "## Look for knowledge base (feedback)"
   ]
  },
  {
   "cell_type": "code",
   "execution_count": 2,
   "id": "20c7680c-820d-46b5-877f-56243feb00e0",
   "metadata": {},
   "outputs": [],
   "source": [
    "def get_db_connection():\n",
    "    return psycopg2.connect(\n",
    "        dbname=\"banksa\",\n",
    "        user=\"root\",\n",
    "        password=\"root\",\n",
    "        host=\"localhost\",\n",
    "        port=\"5432\"\n",
    "    )"
   ]
  },
  {
   "cell_type": "code",
   "execution_count": 4,
   "id": "3cd749d8-e8b1-4385-b89a-c881665671c5",
   "metadata": {},
   "outputs": [],
   "source": [
    "def get_knowledge_base_not_indexed():\n",
    "    cur = None\n",
    "    conn = None\n",
    "    try:\n",
    "        conn = get_db_connection()\n",
    "        cur = conn.cursor()\n",
    "\n",
    "        query = sql.SQL(\"select * from v_knowledge_base\")\n",
    "        \n",
    "        cur.execute(query)\n",
    "\n",
    "        column_names = [desc[0] for desc in cur.description]\n",
    "        results = cur.fetchall()\n",
    "\n",
    "        df = pd.DataFrame(results, columns=column_names)\n",
    "\n",
    "        return df\n",
    "    except Exception as e:\n",
    "        print(f\"An error ocurred: {str(e)}\")\n",
    "        return pd.DataFrame()\n",
    "    finally:\n",
    "        if cur:\n",
    "            cur.close()\n",
    "        if conn:\n",
    "            conn.close()"
   ]
  },
  {
   "cell_type": "code",
   "execution_count": 6,
   "id": "7a532442-b04b-4745-870e-687b348263f4",
   "metadata": {},
   "outputs": [
    {
     "data": {
      "text/html": [
       "<div>\n",
       "<style scoped>\n",
       "    .dataframe tbody tr th:only-of-type {\n",
       "        vertical-align: middle;\n",
       "    }\n",
       "\n",
       "    .dataframe tbody tr th {\n",
       "        vertical-align: top;\n",
       "    }\n",
       "\n",
       "    .dataframe thead th {\n",
       "        text-align: right;\n",
       "    }\n",
       "</style>\n",
       "<table border=\"1\" class=\"dataframe\">\n",
       "  <thead>\n",
       "    <tr style=\"text-align: right;\">\n",
       "      <th></th>\n",
       "      <th>id</th>\n",
       "      <th>description</th>\n",
       "      <th>category</th>\n",
       "    </tr>\n",
       "  </thead>\n",
       "  <tbody>\n",
       "    <tr>\n",
       "      <th>42</th>\n",
       "      <td>76</td>\n",
       "      <td>BR FACTORY.COM 2624</td>\n",
       "      <td>ONLINE SHOPPING</td>\n",
       "    </tr>\n",
       "  </tbody>\n",
       "</table>\n",
       "</div>"
      ],
      "text/plain": [
       "    id          description         category\n",
       "42  76  BR FACTORY.COM 2624  ONLINE SHOPPING"
      ]
     },
     "execution_count": 6,
     "metadata": {},
     "output_type": "execute_result"
    }
   ],
   "source": [
    "df_knowledge_base = get_knowledge_base_not_indexed()\n",
    "df_knowledge_base = df_knowledge_base[['id', 'description', 'category']]\n",
    "df_knowledge_base.sample()"
   ]
  },
  {
   "cell_type": "code",
   "execution_count": 7,
   "id": "0e96f172-a3a8-4707-9442-a9c80448853f",
   "metadata": {},
   "outputs": [
    {
     "name": "stderr",
     "output_type": "stream",
     "text": [
      "/usr/local/python/3.12.1/lib/python3.12/site-packages/transformers/tokenization_utils_base.py:1601: FutureWarning: `clean_up_tokenization_spaces` was not set. It will be set to `True` by default. This behavior will be depracted in transformers v4.45, and will be then set to `False` by default. For more details check this issue: https://github.com/huggingface/transformers/issues/31884\n",
      "  warnings.warn(\n"
     ]
    }
   ],
   "source": [
    "model_name = 'all-MiniLM-L6-v2'\n",
    "embedding_model = SentenceTransformer(model_name)"
   ]
  },
  {
   "cell_type": "code",
   "execution_count": 9,
   "id": "746ca510-0835-4733-a78d-8c2107eec506",
   "metadata": {},
   "outputs": [
    {
     "data": {
      "text/plain": [
       "{'id': 87, 'description': 'FRALUSA SRL GRANIER', 'category': 'RESTAURANT'}"
      ]
     },
     "execution_count": 9,
     "metadata": {},
     "output_type": "execute_result"
    }
   ],
   "source": [
    "kb = df_knowledge_base.to_dict('records')\n",
    "kb[0]"
   ]
  },
  {
   "cell_type": "markdown",
   "id": "9ac10d3a-3973-4764-8f42-5131b5004cef",
   "metadata": {},
   "source": [
    "## Define evaluation functions \n",
    "1. **Hit Rate**\n",
    "2. **MRR** Mean Reciprocal Rank"
   ]
  },
  {
   "cell_type": "code",
   "execution_count": 20,
   "id": "8b57a5d9-c66f-4118-9776-abf811bc834b",
   "metadata": {},
   "outputs": [],
   "source": [
    "def hit_rate(relevance_total):\n",
    "    cnt = 0\n",
    "\n",
    "    for line in relevance_total:\n",
    "        if True in line:\n",
    "            cnt = cnt + 1\n",
    "\n",
    "    return cnt / len(relevance_total)\n",
    "    \n",
    "def mrr(relevance_total):\n",
    "    total_score = 0.0\n",
    "\n",
    "    for line in relevance_total:\n",
    "        for rank in range(len(line)):\n",
    "            if line[rank] == True:\n",
    "                total_score = total_score + 1 / (rank + 1)\n",
    "\n",
    "    return total_score / len(relevance_total)\n",
    "\n",
    "def evaluate(knowledge_base, search_function):\n",
    "    relevance_total = []\n",
    "\n",
    "    for d in tqdm(knowledge_base):\n",
    "        doc_id = d['id']\n",
    "        results = search_function(d)\n",
    "        relevance = [d['id'] == doc_id for d in results]\n",
    "        relevance_total.append(relevance)\n",
    "\n",
    "    return {\n",
    "        'hit_rate': hit_rate(relevance_total),\n",
    "        'mrr': mrr(relevance_total),\n",
    "    }"
   ]
  },
  {
   "cell_type": "code",
   "execution_count": 11,
   "id": "cdbd209c-5bae-46d9-8e6f-6957380fe3b9",
   "metadata": {},
   "outputs": [
    {
     "data": {
      "text/plain": [
       "ObjectApiResponse({'acknowledged': True, 'shards_acknowledged': True, 'index': 'categories_evaluation'})"
      ]
     },
     "execution_count": 11,
     "metadata": {},
     "output_type": "execute_result"
    }
   ],
   "source": [
    "from elasticsearch import Elasticsearch\n",
    "\n",
    "es_client = Elasticsearch('http://localhost:9200') \n",
    "\n",
    "index_settings = {\n",
    "    \"settings\": {\n",
    "        \"number_of_shards\": 1,\n",
    "        \"number_of_replicas\": 0\n",
    "    },\n",
    "    \"mappings\": {\n",
    "        \"properties\": {\n",
    "            \"id\": {\"type\": \"keyword\"},\n",
    "            \"description\": {\"type\": \"text\"},\n",
    "            \"category\": {\"type\": \"text\"},\n",
    "            \"description_vector\": {\n",
    "                \"type\": \"dense_vector\",\n",
    "                \"dims\": 384,\n",
    "                \"index\": True,\n",
    "                \"similarity\": \"cosine\"\n",
    "            },\n",
    "            \"category_vector\": {\n",
    "                \"type\": \"dense_vector\",\n",
    "                \"dims\": 384,\n",
    "                \"index\": True,\n",
    "                \"similarity\": \"cosine\"\n",
    "            },\n",
    "            \"description_category_vector\": {\n",
    "                \"type\": \"dense_vector\",\n",
    "                \"dims\": 384,\n",
    "                \"index\": True,\n",
    "                \"similarity\": \"cosine\"\n",
    "            },\n",
    "        }\n",
    "    }\n",
    "}\n",
    "\n",
    "index_name = \"categories_evaluation\"\n",
    "\n",
    "if es_client.indices.exists(index=index_name):\n",
    "    print(f'Deleting index {index_name}') \n",
    "    es_client.indices.delete(index=index_name, ignore_unavailable=True)\n",
    "es_client.indices.create(index=index_name, body=index_settings)"
   ]
  },
  {
   "cell_type": "markdown",
   "id": "2493612a-23e5-411d-a8e0-ff6f1388d013",
   "metadata": {},
   "source": [
    "## Create Vector DB Index to store the embeddings for each document in the Knowledge Base"
   ]
  },
  {
   "cell_type": "code",
   "execution_count": 12,
   "id": "5c736045-b931-48a8-97ac-c5a7468ed63f",
   "metadata": {},
   "outputs": [
    {
     "data": {
      "application/vnd.jupyter.widget-view+json": {
       "model_id": "9c9d83864e2a4390aa34ac03a239ef20",
       "version_major": 2,
       "version_minor": 0
      },
      "text/plain": [
       "  0%|          | 0/46 [00:00<?, ?it/s]"
      ]
     },
     "metadata": {},
     "output_type": "display_data"
    }
   ],
   "source": [
    "for doc in tqdm(kb):\n",
    "    cat = doc['category']\n",
    "    desc = doc['description']\n",
    "    desc_cat = desc+ ' ' +cat\n",
    "\n",
    "    doc['description_vector'] = embedding_model.encode(desc)\n",
    "    doc['category_vector'] = embedding_model.encode(cat)\n",
    "    doc['description_category_vector'] = embedding_model.encode(desc_cat)"
   ]
  },
  {
   "cell_type": "code",
   "execution_count": 14,
   "id": "9c0c60a4-d9db-4121-bf46-ad533b9b475c",
   "metadata": {},
   "outputs": [
    {
     "data": {
      "application/vnd.jupyter.widget-view+json": {
       "model_id": "7714d132f9be4b26b1a5d59229d67032",
       "version_major": 2,
       "version_minor": 0
      },
      "text/plain": [
       "  0%|          | 0/46 [00:00<?, ?it/s]"
      ]
     },
     "metadata": {},
     "output_type": "display_data"
    }
   ],
   "source": [
    "for doc in tqdm(kb):\n",
    "    es_client.index(index=index_name, document=doc)"
   ]
  },
  {
   "cell_type": "code",
   "execution_count": 24,
   "id": "0b9133ff-487c-40bf-afa3-13fda9e2b269",
   "metadata": {},
   "outputs": [],
   "source": [
    "def elastic_search_knn(field, vector):\n",
    "    knn = {\n",
    "        \"field\": field,\n",
    "        \"query_vector\": vector,\n",
    "        \"k\": 4,\n",
    "        \"num_candidates\": 10000,\n",
    "    }\n",
    "\n",
    "    search_query = {\n",
    "        \"knn\": knn,\n",
    "        \"_source\": [\"id\", \"description\", \"category\"]\n",
    "    }\n",
    "\n",
    "    es_results = es_client.search(\n",
    "        index=index_name,\n",
    "        body=search_query\n",
    "    )\n",
    "    \n",
    "    result_docs = []\n",
    "    \n",
    "    for hit in es_results['hits']['hits']:\n",
    "        result_docs.append(hit['_source'])\n",
    "\n",
    "    return result_docs"
   ]
  },
  {
   "cell_type": "markdown",
   "id": "21fac760-1642-48e5-b69c-49741f8b0126",
   "metadata": {},
   "source": [
    "#### Define functions to vector search every field\n",
    "1. Description\n",
    "2. Category\n",
    "3. Description + Cateory"
   ]
  },
  {
   "cell_type": "code",
   "execution_count": 22,
   "id": "f8022a1b-667e-4eb6-9881-dbd22d6acbac",
   "metadata": {},
   "outputs": [],
   "source": [
    "\n",
    "def description_vector_knn(q):\n",
    "    description = q['description']\n",
    "\n",
    "    v_q = embedding_model.encode(description)\n",
    "\n",
    "    return elastic_search_knn('description_vector', v_q)\n",
    "\n",
    "\n",
    "def category_vector_knn(q):\n",
    "    description = q['description']\n",
    "\n",
    "    v_q = embedding_model.encode(description)\n",
    "\n",
    "    return elastic_search_knn('category_vector', v_q)\n",
    "    \n",
    "def description_category_vector_knn(q):\n",
    "    description = q['description']\n",
    "\n",
    "    v_q = embedding_model.encode(description)\n",
    "\n",
    "    return elastic_search_knn('description_category_vector', v_q)"
   ]
  },
  {
   "cell_type": "markdown",
   "id": "d9f5b06d-cbed-4a04-8e21-9b1764ee0f62",
   "metadata": {},
   "source": [
    "## The results of every evaluation\n",
    "1. Looks like a simple description (with vector) search can be quite handy"
   ]
  },
  {
   "cell_type": "code",
   "execution_count": 25,
   "id": "86c44818-f559-4ffb-991c-fd18bbe99ef3",
   "metadata": {},
   "outputs": [
    {
     "data": {
      "application/vnd.jupyter.widget-view+json": {
       "model_id": "b5aad644f3174cfc851f01bbe547311f",
       "version_major": 2,
       "version_minor": 0
      },
      "text/plain": [
       "  0%|          | 0/46 [00:00<?, ?it/s]"
      ]
     },
     "metadata": {},
     "output_type": "display_data"
    },
    {
     "data": {
      "text/plain": [
       "{'hit_rate': 1.0, 'mrr': 0.9565217391304348}"
      ]
     },
     "execution_count": 25,
     "metadata": {},
     "output_type": "execute_result"
    }
   ],
   "source": [
    "evaluate(kb, description_vector_knn)"
   ]
  },
  {
   "cell_type": "code",
   "execution_count": 26,
   "id": "68878c4d-7dbe-463b-a27f-32f4f36e6616",
   "metadata": {},
   "outputs": [
    {
     "data": {
      "application/vnd.jupyter.widget-view+json": {
       "model_id": "a8013ad471c447f6bc7677acdad3ad72",
       "version_major": 2,
       "version_minor": 0
      },
      "text/plain": [
       "  0%|          | 0/46 [00:00<?, ?it/s]"
      ]
     },
     "metadata": {},
     "output_type": "display_data"
    },
    {
     "data": {
      "text/plain": [
       "{'hit_rate': 0.2391304347826087, 'mrr': 0.161231884057971}"
      ]
     },
     "execution_count": 26,
     "metadata": {},
     "output_type": "execute_result"
    }
   ],
   "source": [
    "evaluate(kb, category_vector_knn)"
   ]
  },
  {
   "cell_type": "code",
   "execution_count": 27,
   "id": "011cfc66-1aac-48a9-8812-71a6d2458564",
   "metadata": {},
   "outputs": [
    {
     "data": {
      "application/vnd.jupyter.widget-view+json": {
       "model_id": "bf095981b12c4927be24c3ff076b75e9",
       "version_major": 2,
       "version_minor": 0
      },
      "text/plain": [
       "  0%|          | 0/46 [00:00<?, ?it/s]"
      ]
     },
     "metadata": {},
     "output_type": "display_data"
    },
    {
     "data": {
      "text/plain": [
       "{'hit_rate': 1.0, 'mrr': 0.9565217391304348}"
      ]
     },
     "execution_count": 27,
     "metadata": {},
     "output_type": "execute_result"
    }
   ],
   "source": [
    "evaluate(kb, description_category_vector_knn)"
   ]
  }
 ],
 "metadata": {
  "kernelspec": {
   "display_name": "Python 3 (ipykernel)",
   "language": "python",
   "name": "python3"
  },
  "language_info": {
   "codemirror_mode": {
    "name": "ipython",
    "version": 3
   },
   "file_extension": ".py",
   "mimetype": "text/x-python",
   "name": "python",
   "nbconvert_exporter": "python",
   "pygments_lexer": "ipython3",
   "version": "3.12.1"
  }
 },
 "nbformat": 4,
 "nbformat_minor": 5
}
